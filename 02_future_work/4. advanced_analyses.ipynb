{
 "cells": [
  {
   "cell_type": "markdown",
   "metadata": {},
   "source": [
    "# Advanced analyses\n",
    "Author:\n",
    "\n",
    "J. Angevaare // <j.angevaare@nikhef.nl> // 2020-05-25\n"
   ]
  },
  {
   "cell_type": "markdown",
   "metadata": {},
   "source": [
    "After successfully working with the previous notebooks you now get the opportunity to get started. Below is a list of possible further subjects to further investigate. \n",
    "\n",
    "### Possible subjects\n",
    " - Can you estimate the efficiency of our detectors using the 511 keV gammas from Ti44 or the photopeaks of Co60?\n",
    "     - An can you see and explain if there is an energy dependence?\n",
    " - Can you see what the backscatter probability is of a photon? Is it energy dependent? (How) Can you even extract such a scenario from the data?"
   ]
  },
  {
   "cell_type": "code",
   "execution_count": null,
   "metadata": {},
   "outputs": [],
   "source": []
  }
 ],
 "metadata": {
  "kernelspec": {
   "display_name": "Python 3",
   "language": "python",
   "name": "python3"
  },
  "language_info": {
   "codemirror_mode": {
    "name": "ipython",
    "version": 3
   },
   "file_extension": ".py",
   "mimetype": "text/x-python",
   "name": "python",
   "nbconvert_exporter": "python",
   "pygments_lexer": "ipython3",
   "version": "3.8.3"
  }
 },
 "nbformat": 4,
 "nbformat_minor": 4
}
