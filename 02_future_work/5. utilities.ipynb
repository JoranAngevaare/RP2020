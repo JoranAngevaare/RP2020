{
 "cells": [
  {
   "cell_type": "markdown",
   "metadata": {},
   "source": [
    "# Utilities\n",
    "Author:\n",
    "\n",
    "J. Angevaare // <j.angevaare@nikhef.nl> // 2020-06-05\n",
    "\n",
    "\n"
   ]
  },
  {
   "cell_type": "markdown",
   "metadata": {},
   "source": [
    "## Useful tools for analyses\n",
    "In this notebook we will learn how to:\n",
    "  - Fit\n",
    "  - Do basic pandas operations"
   ]
  },
  {
   "cell_type": "code",
   "execution_count": 1,
   "metadata": {},
   "outputs": [],
   "source": [
    "import numpy as np\n",
    "import pandas as pd\n",
    "from scipy.optimize import curve_fit\n",
    "import matplotlib.pyplot as plt"
   ]
  },
  {
   "cell_type": "markdown",
   "metadata": {},
   "source": [
    "### Fitting"
   ]
  },
  {
   "cell_type": "markdown",
   "metadata": {},
   "source": [
    "Let's first make some data and then fit it"
   ]
  },
  {
   "cell_type": "code",
   "execution_count": 2,
   "metadata": {},
   "outputs": [
    {
     "data": {
      "text/html": [
       "<div>\n",
       "<style scoped>\n",
       "    .dataframe tbody tr th:only-of-type {\n",
       "        vertical-align: middle;\n",
       "    }\n",
       "\n",
       "    .dataframe tbody tr th {\n",
       "        vertical-align: top;\n",
       "    }\n",
       "\n",
       "    .dataframe thead th {\n",
       "        text-align: right;\n",
       "    }\n",
       "</style>\n",
       "<table border=\"1\" class=\"dataframe\">\n",
       "  <thead>\n",
       "    <tr style=\"text-align: right;\">\n",
       "      <th></th>\n",
       "      <th>x</th>\n",
       "      <th>y</th>\n",
       "    </tr>\n",
       "  </thead>\n",
       "  <tbody>\n",
       "    <tr>\n",
       "      <th>0</th>\n",
       "      <td>0.0</td>\n",
       "      <td>0.0</td>\n",
       "    </tr>\n",
       "    <tr>\n",
       "      <th>1</th>\n",
       "      <td>1.0</td>\n",
       "      <td>2.0</td>\n",
       "    </tr>\n",
       "    <tr>\n",
       "      <th>2</th>\n",
       "      <td>2.0</td>\n",
       "      <td>4.0</td>\n",
       "    </tr>\n",
       "    <tr>\n",
       "      <th>3</th>\n",
       "      <td>3.0</td>\n",
       "      <td>6.0</td>\n",
       "    </tr>\n",
       "    <tr>\n",
       "      <th>4</th>\n",
       "      <td>4.0</td>\n",
       "      <td>8.0</td>\n",
       "    </tr>\n",
       "    <tr>\n",
       "      <th>5</th>\n",
       "      <td>5.0</td>\n",
       "      <td>10.0</td>\n",
       "    </tr>\n",
       "    <tr>\n",
       "      <th>6</th>\n",
       "      <td>6.0</td>\n",
       "      <td>12.0</td>\n",
       "    </tr>\n",
       "    <tr>\n",
       "      <th>7</th>\n",
       "      <td>7.0</td>\n",
       "      <td>14.0</td>\n",
       "    </tr>\n",
       "    <tr>\n",
       "      <th>8</th>\n",
       "      <td>8.0</td>\n",
       "      <td>16.0</td>\n",
       "    </tr>\n",
       "    <tr>\n",
       "      <th>9</th>\n",
       "      <td>9.0</td>\n",
       "      <td>18.0</td>\n",
       "    </tr>\n",
       "    <tr>\n",
       "      <th>10</th>\n",
       "      <td>10.0</td>\n",
       "      <td>20.0</td>\n",
       "    </tr>\n",
       "  </tbody>\n",
       "</table>\n",
       "</div>"
      ],
      "text/plain": [
       "       x     y\n",
       "0    0.0   0.0\n",
       "1    1.0   2.0\n",
       "2    2.0   4.0\n",
       "3    3.0   6.0\n",
       "4    4.0   8.0\n",
       "5    5.0  10.0\n",
       "6    6.0  12.0\n",
       "7    7.0  14.0\n",
       "8    8.0  16.0\n",
       "9    9.0  18.0\n",
       "10  10.0  20.0"
      ]
     },
     "execution_count": 2,
     "metadata": {},
     "output_type": "execute_result"
    }
   ],
   "source": [
    "lin_data = {'x':np.linspace(0,10,11), \n",
    "            'y':np.linspace(0,20,11)}\n",
    "lin_data = pd.DataFrame(lin_data)\n",
    "lin_data"
   ]
  },
  {
   "cell_type": "code",
   "execution_count": 3,
   "metadata": {},
   "outputs": [
    {
     "data": {
      "text/plain": [
       "Text(0, 0.5, 'y')"
      ]
     },
     "execution_count": 3,
     "metadata": {},
     "output_type": "execute_result"
    },
    {
     "data": {
      "image/png": "[encoded data removed]",
      "text/plain": [
       "<Figure size 432x288 with 1 Axes>"
      ]
     },
     "metadata": {
      "needs_background": "light"
     },
     "output_type": "display_data"
    }
   ],
   "source": [
    "# Great let's plot this\n",
    "plt.scatter(lin_data['x'], lin_data['y'])\n",
    "plt.xlabel('x')\n",
    "plt.ylabel('y')"
   ]
  },
  {
   "cell_type": "markdown",
   "metadata": {},
   "source": [
    "Alright that's quite boring, lets add some randomness to this data"
   ]
  },
  {
   "cell_type": "code",
   "execution_count": 4,
   "metadata": {},
   "outputs": [
    {
     "data": {
      "text/html": [
       "<div>\n",
       "<style scoped>\n",
       "    .dataframe tbody tr th:only-of-type {\n",
       "        vertical-align: middle;\n",
       "    }\n",
       "\n",
       "    .dataframe tbody tr th {\n",
       "        vertical-align: top;\n",
       "    }\n",
       "\n",
       "    .dataframe thead th {\n",
       "        text-align: right;\n",
       "    }\n",
       "</style>\n",
       "<table border=\"1\" class=\"dataframe\">\n",
       "  <thead>\n",
       "    <tr style=\"text-align: right;\">\n",
       "      <th></th>\n",
       "      <th>x</th>\n",
       "      <th>y</th>\n",
       "    </tr>\n",
       "  </thead>\n",
       "  <tbody>\n",
       "    <tr>\n",
       "      <th>0</th>\n",
       "      <td>0.0</td>\n",
       "      <td>-0.122202</td>\n",
       "    </tr>\n",
       "    <tr>\n",
       "      <th>1</th>\n",
       "      <td>1.0</td>\n",
       "      <td>2.563147</td>\n",
       "    </tr>\n",
       "    <tr>\n",
       "      <th>2</th>\n",
       "      <td>2.0</td>\n",
       "      <td>3.852637</td>\n",
       "    </tr>\n",
       "    <tr>\n",
       "      <th>3</th>\n",
       "      <td>3.0</td>\n",
       "      <td>5.592359</td>\n",
       "    </tr>\n",
       "    <tr>\n",
       "      <th>4</th>\n",
       "      <td>4.0</td>\n",
       "      <td>7.456105</td>\n",
       "    </tr>\n",
       "    <tr>\n",
       "      <th>5</th>\n",
       "      <td>5.0</td>\n",
       "      <td>10.023887</td>\n",
       "    </tr>\n",
       "    <tr>\n",
       "      <th>6</th>\n",
       "      <td>6.0</td>\n",
       "      <td>12.730858</td>\n",
       "    </tr>\n",
       "    <tr>\n",
       "      <th>7</th>\n",
       "      <td>7.0</td>\n",
       "      <td>14.664788</td>\n",
       "    </tr>\n",
       "    <tr>\n",
       "      <th>8</th>\n",
       "      <td>8.0</td>\n",
       "      <td>15.646600</td>\n",
       "    </tr>\n",
       "    <tr>\n",
       "      <th>9</th>\n",
       "      <td>9.0</td>\n",
       "      <td>18.004444</td>\n",
       "    </tr>\n",
       "    <tr>\n",
       "      <th>10</th>\n",
       "      <td>10.0</td>\n",
       "      <td>19.288273</td>\n",
       "    </tr>\n",
       "  </tbody>\n",
       "</table>\n",
       "</div>"
      ],
      "text/plain": [
       "       x          y\n",
       "0    0.0  -0.122202\n",
       "1    1.0   2.563147\n",
       "2    2.0   3.852637\n",
       "3    3.0   5.592359\n",
       "4    4.0   7.456105\n",
       "5    5.0  10.023887\n",
       "6    6.0  12.730858\n",
       "7    7.0  14.664788\n",
       "8    8.0  15.646600\n",
       "9    9.0  18.004444\n",
       "10  10.0  19.288273"
      ]
     },
     "execution_count": 4,
     "metadata": {},
     "output_type": "execute_result"
    }
   ],
   "source": [
    "# Make a new dataframe\n",
    "lin_data_rand = pd.DataFrame()\n",
    "# keep x the same\n",
    "lin_data_rand['x'] = lin_data['x']\n",
    "# change y values by adding random_gitter\n",
    "random_gitter = ( 2 * np.random.random(size = len(lin_data)) - 1)\n",
    "lin_data_rand['y'] = lin_data['y'] + random_gitter\n",
    "lin_data_rand"
   ]
  },
  {
   "cell_type": "code",
   "execution_count": 5,
   "metadata": {},
   "outputs": [
    {
     "data": {
      "text/plain": [
       "array([-0.12220175,  0.56314738, -0.1473633 , -0.40764057, -0.54389521,\n",
       "        0.02388678,  0.73085757,  0.66478822, -0.35339985,  0.00444405,\n",
       "       -0.71172741])"
      ]
     },
     "execution_count": 5,
     "metadata": {},
     "output_type": "execute_result"
    }
   ],
   "source": [
    "# Maybe good to know the random gitter is in the interval [-1,1]\n",
    "random_gitter"
   ]
  },
  {
   "cell_type": "code",
   "execution_count": 6,
   "metadata": {},
   "outputs": [
    {
     "data": {
      "image/png": "[encoded data removed]",
      "text/plain": [
       "<Figure size 432x288 with 1 Axes>"
      ]
     },
     "metadata": {
      "needs_background": "light"
     },
     "output_type": "display_data"
    }
   ],
   "source": [
    "# Let's plot this randomized data and compare it to the other dataset\n",
    "# Great let's plot this boring set\n",
    "plt.scatter(lin_data['x'], lin_data['y'], label = 'linear')\n",
    "plt.plot(lin_data['x'], lin_data['y'], label = 'linear')\n",
    "# Great let's plot this randomized dataset\n",
    "plt.scatter(lin_data_rand['x'], lin_data_rand['y'], label = 'linear + randomness')\n",
    "plt.xlabel('x')\n",
    "plt.ylabel('y')\n",
    "plt.legend();"
   ]
  },
  {
   "cell_type": "markdown",
   "metadata": {},
   "source": [
    "Great we see indeed that the data is somewhat random compared to the previous dataset "
   ]
  },
  {
   "cell_type": "markdown",
   "metadata": {},
   "source": [
    "# Fitting\n",
    "Let's fit the function above"
   ]
  },
  {
   "cell_type": "code",
   "execution_count": 7,
   "metadata": {},
   "outputs": [],
   "source": [
    "def linear_function(x, a, b):\n",
    "    \"\"\"Function y = a * x + b\"\"\"\n",
    "    return a * x + b"
   ]
  },
  {
   "cell_type": "markdown",
   "metadata": {},
   "source": [
    "This example is rather dull since we already know that the correct answer is that: \n",
    "    - a = 2\n",
    "    - b = 0\n",
    "   \n",
    "for the set above (you can also see by eye easily)"
   ]
  },
  {
   "cell_type": "code",
   "execution_count": 8,
   "metadata": {},
   "outputs": [],
   "source": [
    "# plot that this is true"
   ]
  },
  {
   "cell_type": "code",
   "execution_count": 9,
   "metadata": {},
   "outputs": [
    {
     "data": {
      "image/png": "[encoded data removed]",
      "text/plain": [
       "<Figure size 432x288 with 1 Axes>"
      ]
     },
     "metadata": {
      "needs_background": "light"
     },
     "output_type": "display_data"
    }
   ],
   "source": [
    "x = lin_data_rand['x']\n",
    "plt.plot(x, linear_function(x, 2, 0), label = 'my guess')\n",
    "plt.scatter(lin_data_rand['x'], lin_data_rand['y'], label = 'linear + randomness')\n",
    "plt.xlabel('x')\n",
    "plt.ylabel('y')\n",
    "plt.legend();"
   ]
  },
  {
   "cell_type": "code",
   "execution_count": 10,
   "metadata": {},
   "outputs": [],
   "source": [
    "# First, read the documentation:\n",
    "??curve_fit"
   ]
  },
  {
   "cell_type": "code",
   "execution_count": 11,
   "metadata": {},
   "outputs": [],
   "source": [
    "# Do a fit\n",
    "fit_res = curve_fit(\n",
    "    linear_function, # Function without ()!\n",
    "    lin_data_rand['x'], # x data\n",
    "    lin_data_rand['y'], # y data\n",
    "    p0 = [2,0], # My guess for [a,b]. NB: make sure the order is function(x, a, b) that order should match here!\n",
    "    sigma = None, # Here I could add some errors on y to take into account for fitting but I have none at the moment\n",
    "    )"
   ]
  },
  {
   "cell_type": "code",
   "execution_count": 12,
   "metadata": {},
   "outputs": [],
   "source": [
    "# Alright lets have a look at what fit_res looks like"
   ]
  },
  {
   "cell_type": "code",
   "execution_count": 13,
   "metadata": {},
   "outputs": [
    {
     "data": {
      "text/plain": [
       "(array([1.97835508, 0.08103331]),\n",
       " array([[ 0.00238813, -0.01194064],\n",
       "        [-0.01194064,  0.08358439]]))"
      ]
     },
     "execution_count": 13,
     "metadata": {},
     "output_type": "execute_result"
    }
   ],
   "source": [
    "fit_res"
   ]
  },
  {
   "cell_type": "code",
   "execution_count": 14,
   "metadata": {},
   "outputs": [
    {
     "name": "stdout",
     "output_type": "stream",
     "text": [
      "Fit results [a, b] = [1.97835508 0.08103331]\n",
      "Covariance matrix =\n",
      " [[ 0.00238813 -0.01194064]\n",
      " [-0.01194064  0.08358439]]\n"
     ]
    }
   ],
   "source": [
    "# What is this????\n",
    "print(f'Fit results [a, b] = {fit_res[0]}\\nCovariance matrix =\\n {fit_res[1]}')"
   ]
  },
  {
   "cell_type": "code",
   "execution_count": 15,
   "metadata": {},
   "outputs": [
    {
     "name": "stdout",
     "output_type": "stream",
     "text": [
      "Fitted value for a = 1.98 +/- 0.05\n"
     ]
    }
   ],
   "source": [
    "# So for the error on x and y we can do:\n",
    "a_fit = fit_res[0][0]\n",
    "a_fit_variance = fit_res[1][0][0]\n",
    "a_fit_err = np.sqrt(a_fit_variance)\n",
    "print(f'Fitted value for a = %.2f +/- %.2f'%(a_fit, a_fit_err))"
   ]
  },
  {
   "cell_type": "code",
   "execution_count": 16,
   "metadata": {},
   "outputs": [
    {
     "name": "stdout",
     "output_type": "stream",
     "text": [
      "Fitted value for b = 0.08 +/- 0.05\n"
     ]
    }
   ],
   "source": [
    "# for b we can do the same (only we need the second entry, ergo index 1\n",
    "# So for the error on x and y we can do:\n",
    "b_fit = fit_res[0][1]\n",
    "b_fit_variance = fit_res[1][1][1]\n",
    "b_fit_err = np.sqrt(a_fit_variance)\n",
    "print(f'Fitted value for b = %.2f +/- %.2f'%(b_fit, b_fit_err))"
   ]
  },
  {
   "cell_type": "code",
   "execution_count": 17,
   "metadata": {},
   "outputs": [
    {
     "data": {
      "image/png": "[encoded data removed]",
      "text/plain": [
       "<Figure size 432x288 with 1 Axes>"
      ]
     },
     "metadata": {
      "needs_background": "light"
     },
     "output_type": "display_data"
    }
   ],
   "source": [
    "# For completeness let's compare our guess to the data:\n",
    "# You see the two verlap perfectly (phew!)\n",
    "plt.plot(x, linear_function(x, 2, 0), label = 'my guess')\n",
    "plt.plot(x, linear_function(x, a_fit, b_fit), linestyle = '--', label = 'fit_res')\n",
    "# plt.scatter(lin_data_rand['x'], lin_data_rand['y'], label = 'linear + randomness')\n",
    "plt.xlabel('x')\n",
    "plt.ylabel('y')\n",
    "plt.legend();"
   ]
  },
  {
   "cell_type": "code",
   "execution_count": 18,
   "metadata": {},
   "outputs": [
    {
     "data": {
      "image/png": "[encoded data removed]",
      "text/plain": [
       "<Figure size 432x288 with 1 Axes>"
      ]
     },
     "metadata": {
      "needs_background": "light"
     },
     "output_type": "display_data"
    }
   ],
   "source": [
    "# If you are not convinced we can also subtract the one by the other:\n",
    "# For completeness let's compare our guess to the data:\n",
    "# You see the two verlap perfectly (phew!)\n",
    "subtract = linear_function(x, a_fit, b_fit)\n",
    "plt.plot(x, linear_function(x, 2, 0) - subtract, label = 'my guess - fit')\n",
    "# The line below should be at 0 (since we subtract it with its own values)\n",
    "plt.plot(x, linear_function(x, a_fit, b_fit) - subtract, linestyle = '--', label = 'fit_res - fit')\n",
    "plt.scatter(lin_data_rand['x'], lin_data_rand['y'] - subtract, label = 'linear + randomness - fit')\n",
    "plt.xlabel('x')\n",
    "plt.ylabel('y')\n",
    "plt.legend();"
   ]
  },
  {
   "cell_type": "code",
   "execution_count": 19,
   "metadata": {},
   "outputs": [],
   "source": [
    "# we can also fit a polynomal of order 2:\n",
    "def parabolic_function(x, a, b, c):\n",
    "    \"\"\"Function y = a * x^2 + b * x + c\"\"\"\n",
    "    return a * (x**2) + b * x + c"
   ]
  },
  {
   "cell_type": "code",
   "execution_count": 20,
   "metadata": {},
   "outputs": [
    {
     "name": "stdout",
     "output_type": "stream",
     "text": [
      "You can have a look at the covariance matrix yourself. The best fit parameters [a,b,c] are [-0.01406415  2.11899658 -0.12992894]\n"
     ]
    }
   ],
   "source": [
    "# Do a fit\n",
    "fit_res_parabole = curve_fit(\n",
    "    parabolic_function, # Function without ()!\n",
    "    lin_data_rand['x'], # x data\n",
    "    lin_data_rand['y'], # y data\n",
    "    p0 = [0, 2, 0], # My guess for [a,b, c]. NB: make sure the order is function(x, a, b, c) that order should match here!\n",
    "    sigma = None, # Here I could add some errors on y to take into account for fitting but I have none at the moment\n",
    "    )\n",
    "print(f'You can have a look at the covariance matrix yourself. The best fit parameters [a,b,c] are {fit_res_parabole[0]}')"
   ]
  },
  {
   "cell_type": "code",
   "execution_count": 21,
   "metadata": {},
   "outputs": [
    {
     "data": {
      "image/png": "[encoded data removed]",
      "text/plain": [
       "<Figure size 432x288 with 1 Axes>"
      ]
     },
     "metadata": {
      "needs_background": "light"
     },
     "output_type": "display_data"
    }
   ],
   "source": [
    "# since the value of a is close to zero, this is approximately linear in values of x considered:\n",
    "plt.plot(x, parabolic_function(x, \n",
    "                               fit_res_parabole[0][0], # best fit a\n",
    "                               fit_res_parabole[0][1], # best fit b\n",
    "                               fit_res_parabole[0][2]), # best fit c\n",
    "         label = 'parabolic fit')\n",
    "plt.legend();"
   ]
  },
  {
   "cell_type": "markdown",
   "metadata": {},
   "source": [
    "# Function for a normal ('Gaussian') distribution"
   ]
  },
  {
   "cell_type": "code",
   "execution_count": 22,
   "metadata": {},
   "outputs": [],
   "source": [
    "# Stolen from https://stackoverflow.com/questions/14873203/plotting-of-1-dimensional-gaussian-distribution-function\n",
    "def norm_gaussian(x, mu, sig):\n",
    "    \"\"\"mu is center and sig the standad deviation\"\"\"\n",
    "    return 1./(np.sqrt(2.*np.pi)*sig)*np.exp(-np.power((x - mu)/sig, 2.)/2)\n",
    "\n",
    "def gaussian(x, mu, sig, norm):\n",
    "    \"\"\"mu is center, sig the standad deviation and norm is the overal normalization\"\"\"\n",
    "    return norm * norm_gaussian(x, mu, sig)"
   ]
  },
  {
   "cell_type": "code",
   "execution_count": 23,
   "metadata": {},
   "outputs": [
    {
     "data": {
      "image/png": "[encoded data removed]",
      "text/plain": [
       "<Figure size 432x288 with 1 Axes>"
      ]
     },
     "metadata": {
      "needs_background": "light"
     },
     "output_type": "display_data"
    }
   ],
   "source": [
    "x_gaus = np.linspace(-10,10,100)\n",
    "y_gaus = gaussian(x_gaus,\n",
    "                  0, # center\n",
    "                  1, # std\n",
    "                  1  # norm\n",
    "                 ) \n",
    "plt.plot(x_gaus,\n",
    "         y_gaus, \n",
    "         label = 'example of Gaussian')\n",
    "plt.xlabel('x')\n",
    "plt.ylabel('y')\n",
    "plt.legend();"
   ]
  },
  {
   "cell_type": "markdown",
   "metadata": {},
   "source": [
    "# Basic pandas operations\n",
    "Pandas dataframes are kind of a fancy way of keeping excel files. Here I'll show some basic tricks"
   ]
  },
  {
   "cell_type": "code",
   "execution_count": 24,
   "metadata": {},
   "outputs": [
    {
     "data": {
      "text/html": [
       "<div>\n",
       "<style scoped>\n",
       "    .dataframe tbody tr th:only-of-type {\n",
       "        vertical-align: middle;\n",
       "    }\n",
       "\n",
       "    .dataframe tbody tr th {\n",
       "        vertical-align: top;\n",
       "    }\n",
       "\n",
       "    .dataframe thead th {\n",
       "        text-align: right;\n",
       "    }\n",
       "</style>\n",
       "<table border=\"1\" class=\"dataframe\">\n",
       "  <thead>\n",
       "    <tr style=\"text-align: right;\">\n",
       "      <th></th>\n",
       "      <th>x</th>\n",
       "      <th>y</th>\n",
       "    </tr>\n",
       "  </thead>\n",
       "  <tbody>\n",
       "    <tr>\n",
       "      <th>0</th>\n",
       "      <td>0.0</td>\n",
       "      <td>-0.122202</td>\n",
       "    </tr>\n",
       "    <tr>\n",
       "      <th>1</th>\n",
       "      <td>1.0</td>\n",
       "      <td>2.563147</td>\n",
       "    </tr>\n",
       "    <tr>\n",
       "      <th>2</th>\n",
       "      <td>2.0</td>\n",
       "      <td>3.852637</td>\n",
       "    </tr>\n",
       "    <tr>\n",
       "      <th>3</th>\n",
       "      <td>3.0</td>\n",
       "      <td>5.592359</td>\n",
       "    </tr>\n",
       "    <tr>\n",
       "      <th>4</th>\n",
       "      <td>4.0</td>\n",
       "      <td>7.456105</td>\n",
       "    </tr>\n",
       "    <tr>\n",
       "      <th>5</th>\n",
       "      <td>5.0</td>\n",
       "      <td>10.023887</td>\n",
       "    </tr>\n",
       "    <tr>\n",
       "      <th>6</th>\n",
       "      <td>6.0</td>\n",
       "      <td>12.730858</td>\n",
       "    </tr>\n",
       "    <tr>\n",
       "      <th>7</th>\n",
       "      <td>7.0</td>\n",
       "      <td>14.664788</td>\n",
       "    </tr>\n",
       "    <tr>\n",
       "      <th>8</th>\n",
       "      <td>8.0</td>\n",
       "      <td>15.646600</td>\n",
       "    </tr>\n",
       "    <tr>\n",
       "      <th>9</th>\n",
       "      <td>9.0</td>\n",
       "      <td>18.004444</td>\n",
       "    </tr>\n",
       "    <tr>\n",
       "      <th>10</th>\n",
       "      <td>10.0</td>\n",
       "      <td>19.288273</td>\n",
       "    </tr>\n",
       "  </tbody>\n",
       "</table>\n",
       "</div>"
      ],
      "text/plain": [
       "       x          y\n",
       "0    0.0  -0.122202\n",
       "1    1.0   2.563147\n",
       "2    2.0   3.852637\n",
       "3    3.0   5.592359\n",
       "4    4.0   7.456105\n",
       "5    5.0  10.023887\n",
       "6    6.0  12.730858\n",
       "7    7.0  14.664788\n",
       "8    8.0  15.646600\n",
       "9    9.0  18.004444\n",
       "10  10.0  19.288273"
      ]
     },
     "execution_count": 24,
     "metadata": {},
     "output_type": "execute_result"
    }
   ],
   "source": [
    "# let'start with our previous set:\n",
    "data = lin_data_rand.copy()\n",
    "data"
   ]
  },
  {
   "cell_type": "code",
   "execution_count": 25,
   "metadata": {},
   "outputs": [
    {
     "data": {
      "text/html": [
       "<div>\n",
       "<style scoped>\n",
       "    .dataframe tbody tr th:only-of-type {\n",
       "        vertical-align: middle;\n",
       "    }\n",
       "\n",
       "    .dataframe tbody tr th {\n",
       "        vertical-align: top;\n",
       "    }\n",
       "\n",
       "    .dataframe thead th {\n",
       "        text-align: right;\n",
       "    }\n",
       "</style>\n",
       "<table border=\"1\" class=\"dataframe\">\n",
       "  <thead>\n",
       "    <tr style=\"text-align: right;\">\n",
       "      <th></th>\n",
       "      <th>x</th>\n",
       "      <th>y</th>\n",
       "      <th>x_plus_y</th>\n",
       "    </tr>\n",
       "  </thead>\n",
       "  <tbody>\n",
       "    <tr>\n",
       "      <th>0</th>\n",
       "      <td>0.0</td>\n",
       "      <td>-0.122202</td>\n",
       "      <td>-0.122202</td>\n",
       "    </tr>\n",
       "    <tr>\n",
       "      <th>1</th>\n",
       "      <td>1.0</td>\n",
       "      <td>2.563147</td>\n",
       "      <td>3.563147</td>\n",
       "    </tr>\n",
       "    <tr>\n",
       "      <th>2</th>\n",
       "      <td>2.0</td>\n",
       "      <td>3.852637</td>\n",
       "      <td>5.852637</td>\n",
       "    </tr>\n",
       "    <tr>\n",
       "      <th>3</th>\n",
       "      <td>3.0</td>\n",
       "      <td>5.592359</td>\n",
       "      <td>8.592359</td>\n",
       "    </tr>\n",
       "    <tr>\n",
       "      <th>4</th>\n",
       "      <td>4.0</td>\n",
       "      <td>7.456105</td>\n",
       "      <td>11.456105</td>\n",
       "    </tr>\n",
       "    <tr>\n",
       "      <th>5</th>\n",
       "      <td>5.0</td>\n",
       "      <td>10.023887</td>\n",
       "      <td>15.023887</td>\n",
       "    </tr>\n",
       "    <tr>\n",
       "      <th>6</th>\n",
       "      <td>6.0</td>\n",
       "      <td>12.730858</td>\n",
       "      <td>18.730858</td>\n",
       "    </tr>\n",
       "    <tr>\n",
       "      <th>7</th>\n",
       "      <td>7.0</td>\n",
       "      <td>14.664788</td>\n",
       "      <td>21.664788</td>\n",
       "    </tr>\n",
       "    <tr>\n",
       "      <th>8</th>\n",
       "      <td>8.0</td>\n",
       "      <td>15.646600</td>\n",
       "      <td>23.646600</td>\n",
       "    </tr>\n",
       "    <tr>\n",
       "      <th>9</th>\n",
       "      <td>9.0</td>\n",
       "      <td>18.004444</td>\n",
       "      <td>27.004444</td>\n",
       "    </tr>\n",
       "    <tr>\n",
       "      <th>10</th>\n",
       "      <td>10.0</td>\n",
       "      <td>19.288273</td>\n",
       "      <td>29.288273</td>\n",
       "    </tr>\n",
       "  </tbody>\n",
       "</table>\n",
       "</div>"
      ],
      "text/plain": [
       "       x          y   x_plus_y\n",
       "0    0.0  -0.122202  -0.122202\n",
       "1    1.0   2.563147   3.563147\n",
       "2    2.0   3.852637   5.852637\n",
       "3    3.0   5.592359   8.592359\n",
       "4    4.0   7.456105  11.456105\n",
       "5    5.0  10.023887  15.023887\n",
       "6    6.0  12.730858  18.730858\n",
       "7    7.0  14.664788  21.664788\n",
       "8    8.0  15.646600  23.646600\n",
       "9    9.0  18.004444  27.004444\n",
       "10  10.0  19.288273  29.288273"
      ]
     },
     "execution_count": 25,
     "metadata": {},
     "output_type": "execute_result"
    }
   ],
   "source": [
    "# Let's add x and y together like this\n",
    "data['x_plus_y']  = data['x'] + data['y']\n",
    "data"
   ]
  },
  {
   "cell_type": "code",
   "execution_count": 26,
   "metadata": {},
   "outputs": [
    {
     "data": {
      "text/html": [
       "<div>\n",
       "<style scoped>\n",
       "    .dataframe tbody tr th:only-of-type {\n",
       "        vertical-align: middle;\n",
       "    }\n",
       "\n",
       "    .dataframe tbody tr th {\n",
       "        vertical-align: top;\n",
       "    }\n",
       "\n",
       "    .dataframe thead th {\n",
       "        text-align: right;\n",
       "    }\n",
       "</style>\n",
       "<table border=\"1\" class=\"dataframe\">\n",
       "  <thead>\n",
       "    <tr style=\"text-align: right;\">\n",
       "      <th></th>\n",
       "      <th>x</th>\n",
       "      <th>y</th>\n",
       "      <th>x_plus_y</th>\n",
       "      <th>gaus</th>\n",
       "    </tr>\n",
       "  </thead>\n",
       "  <tbody>\n",
       "    <tr>\n",
       "      <th>0</th>\n",
       "      <td>0.0</td>\n",
       "      <td>-0.122202</td>\n",
       "      <td>-0.122202</td>\n",
       "      <td>2.419707e-01</td>\n",
       "    </tr>\n",
       "    <tr>\n",
       "      <th>1</th>\n",
       "      <td>1.0</td>\n",
       "      <td>2.563147</td>\n",
       "      <td>3.563147</td>\n",
       "      <td>3.989423e-01</td>\n",
       "    </tr>\n",
       "    <tr>\n",
       "      <th>2</th>\n",
       "      <td>2.0</td>\n",
       "      <td>3.852637</td>\n",
       "      <td>5.852637</td>\n",
       "      <td>2.419707e-01</td>\n",
       "    </tr>\n",
       "    <tr>\n",
       "      <th>3</th>\n",
       "      <td>3.0</td>\n",
       "      <td>5.592359</td>\n",
       "      <td>8.592359</td>\n",
       "      <td>5.399097e-02</td>\n",
       "    </tr>\n",
       "    <tr>\n",
       "      <th>4</th>\n",
       "      <td>4.0</td>\n",
       "      <td>7.456105</td>\n",
       "      <td>11.456105</td>\n",
       "      <td>4.431848e-03</td>\n",
       "    </tr>\n",
       "    <tr>\n",
       "      <th>5</th>\n",
       "      <td>5.0</td>\n",
       "      <td>10.023887</td>\n",
       "      <td>15.023887</td>\n",
       "      <td>1.338302e-04</td>\n",
       "    </tr>\n",
       "    <tr>\n",
       "      <th>6</th>\n",
       "      <td>6.0</td>\n",
       "      <td>12.730858</td>\n",
       "      <td>18.730858</td>\n",
       "      <td>1.486720e-06</td>\n",
       "    </tr>\n",
       "    <tr>\n",
       "      <th>7</th>\n",
       "      <td>7.0</td>\n",
       "      <td>14.664788</td>\n",
       "      <td>21.664788</td>\n",
       "      <td>6.075883e-09</td>\n",
       "    </tr>\n",
       "    <tr>\n",
       "      <th>8</th>\n",
       "      <td>8.0</td>\n",
       "      <td>15.646600</td>\n",
       "      <td>23.646600</td>\n",
       "      <td>9.134720e-12</td>\n",
       "    </tr>\n",
       "    <tr>\n",
       "      <th>9</th>\n",
       "      <td>9.0</td>\n",
       "      <td>18.004444</td>\n",
       "      <td>27.004444</td>\n",
       "      <td>5.052271e-15</td>\n",
       "    </tr>\n",
       "    <tr>\n",
       "      <th>10</th>\n",
       "      <td>10.0</td>\n",
       "      <td>19.288273</td>\n",
       "      <td>29.288273</td>\n",
       "      <td>1.027977e-18</td>\n",
       "    </tr>\n",
       "  </tbody>\n",
       "</table>\n",
       "</div>"
      ],
      "text/plain": [
       "       x          y   x_plus_y          gaus\n",
       "0    0.0  -0.122202  -0.122202  2.419707e-01\n",
       "1    1.0   2.563147   3.563147  3.989423e-01\n",
       "2    2.0   3.852637   5.852637  2.419707e-01\n",
       "3    3.0   5.592359   8.592359  5.399097e-02\n",
       "4    4.0   7.456105  11.456105  4.431848e-03\n",
       "5    5.0  10.023887  15.023887  1.338302e-04\n",
       "6    6.0  12.730858  18.730858  1.486720e-06\n",
       "7    7.0  14.664788  21.664788  6.075883e-09\n",
       "8    8.0  15.646600  23.646600  9.134720e-12\n",
       "9    9.0  18.004444  27.004444  5.052271e-15\n",
       "10  10.0  19.288273  29.288273  1.027977e-18"
      ]
     },
     "execution_count": 26,
     "metadata": {},
     "output_type": "execute_result"
    }
   ],
   "source": [
    "# Let's add a column showing a gausian based on x!\n",
    "gaus_data = norm_gaussian(data['x'].values, 1, 1)\n",
    "data['gaus'] = gaus_data\n",
    "data"
   ]
  },
  {
   "cell_type": "code",
   "execution_count": 27,
   "metadata": {},
   "outputs": [
    {
     "data": {
      "text/plain": [
       "<matplotlib.legend.Legend at 0x7f20f006d940>"
      ]
     },
     "execution_count": 27,
     "metadata": {},
     "output_type": "execute_result"
    },
    {
     "data": {
      "image/png": "[encoded data removed]",
      "text/plain": [
       "<Figure size 432x288 with 1 Axes>"
      ]
     },
     "metadata": {
      "needs_background": "light"
     },
     "output_type": "display_data"
    }
   ],
   "source": [
    "# Now I'm actually curious what we made:\n",
    "plt.plot(data['x'],\n",
    "        data['gaus'], label = 'some gaus')\n",
    "plt.xlabel('x')\n",
    "plt.ylabel('y (gaus)');\n",
    "plt.legend()"
   ]
  },
  {
   "cell_type": "markdown",
   "metadata": {},
   "source": [
    "### making selections\n",
    "Now imagine that we want to make a selection based on the figure above where y (gaus) > 0.05. \n",
    "\n",
    "This can be done quite easily using the operators `==` or `<` and `>`. See the example below"
   ]
  },
  {
   "cell_type": "code",
   "execution_count": 28,
   "metadata": {},
   "outputs": [
    {
     "data": {
      "text/html": [
       "<div>\n",
       "<style scoped>\n",
       "    .dataframe tbody tr th:only-of-type {\n",
       "        vertical-align: middle;\n",
       "    }\n",
       "\n",
       "    .dataframe tbody tr th {\n",
       "        vertical-align: top;\n",
       "    }\n",
       "\n",
       "    .dataframe thead th {\n",
       "        text-align: right;\n",
       "    }\n",
       "</style>\n",
       "<table border=\"1\" class=\"dataframe\">\n",
       "  <thead>\n",
       "    <tr style=\"text-align: right;\">\n",
       "      <th></th>\n",
       "      <th>x</th>\n",
       "      <th>y</th>\n",
       "      <th>x_plus_y</th>\n",
       "      <th>gaus</th>\n",
       "    </tr>\n",
       "  </thead>\n",
       "  <tbody>\n",
       "    <tr>\n",
       "      <th>0</th>\n",
       "      <td>0.0</td>\n",
       "      <td>-0.122202</td>\n",
       "      <td>-0.122202</td>\n",
       "      <td>2.419707e-01</td>\n",
       "    </tr>\n",
       "    <tr>\n",
       "      <th>1</th>\n",
       "      <td>1.0</td>\n",
       "      <td>2.563147</td>\n",
       "      <td>3.563147</td>\n",
       "      <td>3.989423e-01</td>\n",
       "    </tr>\n",
       "    <tr>\n",
       "      <th>2</th>\n",
       "      <td>2.0</td>\n",
       "      <td>3.852637</td>\n",
       "      <td>5.852637</td>\n",
       "      <td>2.419707e-01</td>\n",
       "    </tr>\n",
       "    <tr>\n",
       "      <th>3</th>\n",
       "      <td>3.0</td>\n",
       "      <td>5.592359</td>\n",
       "      <td>8.592359</td>\n",
       "      <td>5.399097e-02</td>\n",
       "    </tr>\n",
       "    <tr>\n",
       "      <th>4</th>\n",
       "      <td>4.0</td>\n",
       "      <td>7.456105</td>\n",
       "      <td>11.456105</td>\n",
       "      <td>4.431848e-03</td>\n",
       "    </tr>\n",
       "    <tr>\n",
       "      <th>5</th>\n",
       "      <td>5.0</td>\n",
       "      <td>10.023887</td>\n",
       "      <td>15.023887</td>\n",
       "      <td>1.338302e-04</td>\n",
       "    </tr>\n",
       "    <tr>\n",
       "      <th>6</th>\n",
       "      <td>6.0</td>\n",
       "      <td>12.730858</td>\n",
       "      <td>18.730858</td>\n",
       "      <td>1.486720e-06</td>\n",
       "    </tr>\n",
       "    <tr>\n",
       "      <th>7</th>\n",
       "      <td>7.0</td>\n",
       "      <td>14.664788</td>\n",
       "      <td>21.664788</td>\n",
       "      <td>6.075883e-09</td>\n",
       "    </tr>\n",
       "    <tr>\n",
       "      <th>8</th>\n",
       "      <td>8.0</td>\n",
       "      <td>15.646600</td>\n",
       "      <td>23.646600</td>\n",
       "      <td>9.134720e-12</td>\n",
       "    </tr>\n",
       "    <tr>\n",
       "      <th>9</th>\n",
       "      <td>9.0</td>\n",
       "      <td>18.004444</td>\n",
       "      <td>27.004444</td>\n",
       "      <td>5.052271e-15</td>\n",
       "    </tr>\n",
       "    <tr>\n",
       "      <th>10</th>\n",
       "      <td>10.0</td>\n",
       "      <td>19.288273</td>\n",
       "      <td>29.288273</td>\n",
       "      <td>1.027977e-18</td>\n",
       "    </tr>\n",
       "  </tbody>\n",
       "</table>\n",
       "</div>"
      ],
      "text/plain": [
       "       x          y   x_plus_y          gaus\n",
       "0    0.0  -0.122202  -0.122202  2.419707e-01\n",
       "1    1.0   2.563147   3.563147  3.989423e-01\n",
       "2    2.0   3.852637   5.852637  2.419707e-01\n",
       "3    3.0   5.592359   8.592359  5.399097e-02\n",
       "4    4.0   7.456105  11.456105  4.431848e-03\n",
       "5    5.0  10.023887  15.023887  1.338302e-04\n",
       "6    6.0  12.730858  18.730858  1.486720e-06\n",
       "7    7.0  14.664788  21.664788  6.075883e-09\n",
       "8    8.0  15.646600  23.646600  9.134720e-12\n",
       "9    9.0  18.004444  27.004444  5.052271e-15\n",
       "10  10.0  19.288273  29.288273  1.027977e-18"
      ]
     },
     "execution_count": 28,
     "metadata": {},
     "output_type": "execute_result"
    }
   ],
   "source": [
    "# let's select data where the y gaus is > 0.05. We start with this data:\n",
    "data"
   ]
  },
  {
   "cell_type": "code",
   "execution_count": 29,
   "metadata": {},
   "outputs": [
    {
     "data": {
      "text/plain": [
       "0      True\n",
       "1      True\n",
       "2      True\n",
       "3      True\n",
       "4     False\n",
       "5     False\n",
       "6     False\n",
       "7     False\n",
       "8     False\n",
       "9     False\n",
       "10    False\n",
       "Name: gaus, dtype: bool"
      ]
     },
     "execution_count": 29,
     "metadata": {},
     "output_type": "execute_result"
    }
   ],
   "source": [
    "# check where this condition is true\n",
    "data['gaus'] > 0.05"
   ]
  },
  {
   "cell_type": "code",
   "execution_count": 30,
   "metadata": {},
   "outputs": [
    {
     "data": {
      "text/html": [
       "<div>\n",
       "<style scoped>\n",
       "    .dataframe tbody tr th:only-of-type {\n",
       "        vertical-align: middle;\n",
       "    }\n",
       "\n",
       "    .dataframe tbody tr th {\n",
       "        vertical-align: top;\n",
       "    }\n",
       "\n",
       "    .dataframe thead th {\n",
       "        text-align: right;\n",
       "    }\n",
       "</style>\n",
       "<table border=\"1\" class=\"dataframe\">\n",
       "  <thead>\n",
       "    <tr style=\"text-align: right;\">\n",
       "      <th></th>\n",
       "      <th>x</th>\n",
       "      <th>y</th>\n",
       "      <th>x_plus_y</th>\n",
       "      <th>gaus</th>\n",
       "    </tr>\n",
       "  </thead>\n",
       "  <tbody>\n",
       "    <tr>\n",
       "      <th>0</th>\n",
       "      <td>0.0</td>\n",
       "      <td>-0.122202</td>\n",
       "      <td>-0.122202</td>\n",
       "      <td>0.241971</td>\n",
       "    </tr>\n",
       "    <tr>\n",
       "      <th>1</th>\n",
       "      <td>1.0</td>\n",
       "      <td>2.563147</td>\n",
       "      <td>3.563147</td>\n",
       "      <td>0.398942</td>\n",
       "    </tr>\n",
       "    <tr>\n",
       "      <th>2</th>\n",
       "      <td>2.0</td>\n",
       "      <td>3.852637</td>\n",
       "      <td>5.852637</td>\n",
       "      <td>0.241971</td>\n",
       "    </tr>\n",
       "    <tr>\n",
       "      <th>3</th>\n",
       "      <td>3.0</td>\n",
       "      <td>5.592359</td>\n",
       "      <td>8.592359</td>\n",
       "      <td>0.053991</td>\n",
       "    </tr>\n",
       "  </tbody>\n",
       "</table>\n",
       "</div>"
      ],
      "text/plain": [
       "     x         y  x_plus_y      gaus\n",
       "0  0.0 -0.122202 -0.122202  0.241971\n",
       "1  1.0  2.563147  3.563147  0.398942\n",
       "2  2.0  3.852637  5.852637  0.241971\n",
       "3  3.0  5.592359  8.592359  0.053991"
      ]
     },
     "execution_count": 30,
     "metadata": {},
     "output_type": "execute_result"
    }
   ],
   "source": [
    "# This might be new, you can select data based on the above array of True and False like this:\n",
    "selection = data['gaus'] > 0.05\n",
    "data[selection]"
   ]
  },
  {
   "cell_type": "code",
   "execution_count": 34,
   "metadata": {},
   "outputs": [
    {
     "data": {
      "image/png": "[encoded data removed]",
      "text/plain": [
       "<Figure size 432x288 with 1 Axes>"
      ]
     },
     "metadata": {
      "needs_background": "light"
     },
     "output_type": "display_data"
    }
   ],
   "source": [
    "# let's plot this\n",
    "data_sel = data[selection]\n",
    "plt.plot(data['x'],\n",
    "         data['gaus'], \n",
    "         linewidth = 0.5,\n",
    "         label = 'some gaus')\n",
    "plt.plot(data_sel['x'],\n",
    "         data_sel['gaus'],\n",
    "         linestyle = '--',\n",
    "         label = 'selected gaus')\n",
    "\n",
    "plt.xlabel('x')\n",
    "plt.ylabel('y (gaus)')\n",
    "plt.legend();"
   ]
  },
  {
   "cell_type": "markdown",
   "metadata": {},
   "source": [
    "### More complex selections"
   ]
  },
  {
   "cell_type": "code",
   "execution_count": 36,
   "metadata": {},
   "outputs": [
    {
     "data": {
      "text/plain": [
       "0      True\n",
       "1     False\n",
       "2      True\n",
       "3      True\n",
       "4     False\n",
       "5     False\n",
       "6     False\n",
       "7     False\n",
       "8     False\n",
       "9     False\n",
       "10    False\n",
       "Name: gaus, dtype: bool"
      ]
     },
     "execution_count": 36,
     "metadata": {},
     "output_type": "execute_result"
    }
   ],
   "source": [
    "# This might be new, you can select data based on the above array of True and False like this:\n",
    "selection = (data['gaus'] > 0.01) & (data['gaus'] < 0.3)\n",
    "selection"
   ]
  },
  {
   "cell_type": "code",
   "execution_count": 38,
   "metadata": {},
   "outputs": [
    {
     "data": {
      "image/png": "[encoded data removed]",
      "text/plain": [
       "<Figure size 432x288 with 1 Axes>"
      ]
     },
     "metadata": {
      "needs_background": "light"
     },
     "output_type": "display_data"
    }
   ],
   "source": [
    "# let's plot this\n",
    "data_sel = data[selection]\n",
    "plt.plot(data['x'],\n",
    "         data['gaus'], \n",
    "         linewidth = 0.5,\n",
    "         label = 'some gaus')\n",
    "plt.scatter(data_sel['x'],\n",
    "         data_sel['gaus'],\n",
    "         linestyle = '--',\n",
    "         label = 'selected gaus')\n",
    "\n",
    "plt.xlabel('x')\n",
    "plt.ylabel('y (gaus)')\n",
    "plt.legend();"
   ]
  },
  {
   "cell_type": "markdown",
   "metadata": {},
   "source": [
    "# extract data from a hist"
   ]
  },
  {
   "cell_type": "code",
   "execution_count": 46,
   "metadata": {},
   "outputs": [
    {
     "data": {
      "image/png": "[encoded data removed]",
      "text/plain": [
       "<Figure size 432x288 with 1 Axes>"
      ]
     },
     "metadata": {
      "needs_background": "light"
     },
     "output_type": "display_data"
    }
   ],
   "source": [
    "counts, bins, _ = plt.hist(y_gaus, bins = 20)"
   ]
  },
  {
   "cell_type": "code",
   "execution_count": 51,
   "metadata": {},
   "outputs": [
    {
     "data": {
      "text/plain": [
       "array([0.00992281, 0.02976842, 0.04961403, 0.06945964, 0.08930526,\n",
       "       0.10915087, 0.12899648, 0.14884209, 0.16868771, 0.18853332,\n",
       "       0.20837893, 0.22822454, 0.24807016, 0.26791577, 0.28776138,\n",
       "       0.30760699, 0.32745261, 0.34729822, 0.36714383, 0.38698944])"
      ]
     },
     "execution_count": 51,
     "metadata": {},
     "output_type": "execute_result"
    }
   ],
   "source": [
    "# The edges of \n",
    "bins\n",
    "bin_centers = (bins[1:] + bins[:-1])/2\n",
    "bin_centers"
   ]
  },
  {
   "cell_type": "code",
   "execution_count": 58,
   "metadata": {},
   "outputs": [
    {
     "data": {
      "text/plain": [
       "<ErrorbarContainer object of 3 artists>"
      ]
     },
     "execution_count": 58,
     "metadata": {},
     "output_type": "execute_result"
    },
    {
     "data": {
      "image/png": "[encoded data removed]",
      "text/plain": [
       "<Figure size 432x288 with 1 Axes>"
      ]
     },
     "metadata": {
      "needs_background": "light"
     },
     "output_type": "display_data"
    }
   ],
   "source": [
    "plt.errorbar(bin_centers, counts, np.sqrt(counts), linestyle = 'None', marker = 'o')"
   ]
  },
  {
   "cell_type": "code",
   "execution_count": null,
   "metadata": {},
   "outputs": [],
   "source": []
  }
 ],
 "metadata": {
  "kernelspec": {
   "display_name": "Python 3",
   "language": "python",
   "name": "python3"
  },
  "language_info": {
   "codemirror_mode": {
    "name": "ipython",
    "version": 3
   },
   "file_extension": ".py",
   "mimetype": "text/x-python",
   "name": "python",
   "nbconvert_exporter": "python",
   "pygments_lexer": "ipython3",
   "version": "3.8.1"
  }
 },
 "nbformat": 4,
 "nbformat_minor": 4
}
