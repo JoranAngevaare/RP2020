{
 "cells": [
  {
   "cell_type": "markdown",
   "metadata": {},
   "source": [
    "# Open spectrum from root-files\n",
    "Author:\n",
    "\n",
    "J. Angevaare // <j.angevaare@nikhef.nl> // 2020-05-25"
   ]
  },
  {
   "cell_type": "markdown",
   "metadata": {},
   "source": [
    "Until now we have only been dealing with small files that make it easy to see what is going on. Perhaps we want at some point to get more data from the stoomboot computing cluster or the appended root-file as in this folder. This notebook will show how to and we make an exemplary coincidence plot for Ti-44 using much more data than in the previous tutorials.\n",
    "\n",
    "Below we:\n",
    " - locate a file on the stoomboot computing cluster\n",
    " - open it using uproot\n",
    " - show a calibrated spectrum\n",
    " - show a Ti-44 coincidence plot"
   ]
  },
  {
   "cell_type": "markdown",
   "metadata": {},
   "source": [
    "## Locating file:\n",
    "check where files live on stoomboot (NB: will only work on stoomboot not on your machine!)\n"
   ]
  },
  {
   "cell_type": "code",
   "execution_count": 1,
   "metadata": {},
   "outputs": [
    {
     "name": "stderr",
     "output_type": "stream",
     "text": [
      "'ls' is not recognized as an internal or external command,\n",
      "operable program or batch file.\n"
     ]
    }
   ],
   "source": [
    "# this is where files are stored (let's \"grep\" something from january this year)\n",
    "!ls /data/modulation/Raw_Data/combined/ | grep 202001"
   ]
  },
  {
   "cell_type": "code",
   "execution_count": 2,
   "metadata": {},
   "outputs": [
    {
     "name": "stdout",
     "output_type": "stream",
     "text": [
      "ls: cannot access '/dcache/xenon/tmons/Modulation/processed/mx_n_20200104_1055': No such file or directory\r\n"
     ]
    }
   ],
   "source": [
    "# this is where processed root files live, lets look at the top folder of the list above\n",
    "!ls -lthr /dcache/xenon/tmons/Modulation/processed/mx_n_20200104_1055 | tail -5"
   ]
  },
  {
   "cell_type": "code",
   "execution_count": 3,
   "metadata": {},
   "outputs": [
    {
     "name": "stdout",
     "output_type": "stream",
     "text": [
      "cp: cannot stat '/dcache/xenon/tmons/Modulation/processed/mx_n_20200104_1055/mx_n_20200104_1055_000055.root': No such file or directory\r\n"
     ]
    }
   ],
   "source": [
    "# Let's copy that last one as it is not too big\n",
    "!cp '/dcache/xenon/tmons/Modulation/processed/mx_n_20200104_1055/mx_n_20200104_1055_000055.root' ."
   ]
  },
  {
   "cell_type": "code",
   "execution_count": 4,
   "metadata": {},
   "outputs": [
    {
     "name": "stdout",
     "output_type": "stream",
     "text": [
      "total 316K\r\n",
      "-rwxrwxrwx 1 joran joran 5.9K May 25 17:20  coincidence_matching.py\r\n",
      "-rwxrwxrwx 1 joran joran 181K May 25 18:38 '3. open_raw_root_and_ti44.ipynb'\r\n",
      "drwxrwxrwx 1 joran joran 4.0K May 25 18:45  __pycache__\r\n",
      "-rwxrwxrwx 1 joran joran 122K May 25 18:45 '2. coincidence_matching_Co60.ipynb'\r\n"
     ]
    }
   ],
   "source": [
    "!ls -lthr"
   ]
  },
  {
   "cell_type": "markdown",
   "metadata": {},
   "source": [
    "## Open the data"
   ]
  },
  {
   "cell_type": "code",
   "execution_count": 3,
   "metadata": {},
   "outputs": [],
   "source": [
    "import pandas as pd\n",
    "import numpy as np\n",
    "import matplotlib.pyplot as plt\n",
    "from matplotlib.colors import LogNorm\n",
    "import numba\n",
    "import uproot"
   ]
  },
  {
   "cell_type": "code",
   "execution_count": 4,
   "metadata": {},
   "outputs": [],
   "source": [
    "# Let's look at the first root file in the list above\n",
    "path = '../data/mx_n_20200104_1055_000055.root'"
   ]
  },
  {
   "cell_type": "code",
   "execution_count": 5,
   "metadata": {},
   "outputs": [],
   "source": [
    "file = uproot.open(path)"
   ]
  },
  {
   "cell_type": "code",
   "execution_count": 6,
   "metadata": {},
   "outputs": [],
   "source": [
    "tree = file['T;2']"
   ]
  },
  {
   "cell_type": "code",
   "execution_count": 7,
   "metadata": {},
   "outputs": [],
   "source": [
    "data = tree.pandas.df()"
   ]
  },
  {
   "cell_type": "code",
   "execution_count": 8,
   "metadata": {},
   "outputs": [
    {
     "data": {
      "text/html": [
       "<div>\n",
       "<style scoped>\n",
       "    .dataframe tbody tr th:only-of-type {\n",
       "        vertical-align: middle;\n",
       "    }\n",
       "\n",
       "    .dataframe tbody tr th {\n",
       "        vertical-align: top;\n",
       "    }\n",
       "\n",
       "    .dataframe thead th {\n",
       "        text-align: right;\n",
       "    }\n",
       "</style>\n",
       "<table border=\"1\" class=\"dataframe\">\n",
       "  <thead>\n",
       "    <tr style=\"text-align: right;\">\n",
       "      <th></th>\n",
       "      <th>channel</th>\n",
       "      <th>integral</th>\n",
       "      <th>height</th>\n",
       "      <th>time</th>\n",
       "      <th>istestpulse</th>\n",
       "      <th>error</th>\n",
       "      <th>baseline</th>\n",
       "      <th>rms</th>\n",
       "      <th>ratio</th>\n",
       "      <th>humid</th>\n",
       "      <th>sec</th>\n",
       "    </tr>\n",
       "  </thead>\n",
       "  <tbody>\n",
       "    <tr>\n",
       "      <th>0</th>\n",
       "      <td>5</td>\n",
       "      <td>1258.489746</td>\n",
       "      <td>0.756836</td>\n",
       "      <td>3.787286e+09</td>\n",
       "      <td>0</td>\n",
       "      <td>0</td>\n",
       "      <td>660.000000</td>\n",
       "      <td>8.000000</td>\n",
       "      <td>0.872195</td>\n",
       "      <td>-9.16</td>\n",
       "      <td>12510.0</td>\n",
       "    </tr>\n",
       "    <tr>\n",
       "      <th>1</th>\n",
       "      <td>6</td>\n",
       "      <td>1299.349243</td>\n",
       "      <td>1.729395</td>\n",
       "      <td>3.787286e+09</td>\n",
       "      <td>0</td>\n",
       "      <td>1</td>\n",
       "      <td>776.799988</td>\n",
       "      <td>2.993326</td>\n",
       "      <td>0.863694</td>\n",
       "      <td>-9.16</td>\n",
       "      <td>12510.0</td>\n",
       "    </tr>\n",
       "    <tr>\n",
       "      <th>2</th>\n",
       "      <td>2</td>\n",
       "      <td>1663.329346</td>\n",
       "      <td>0.942187</td>\n",
       "      <td>3.787286e+09</td>\n",
       "      <td>0</td>\n",
       "      <td>0</td>\n",
       "      <td>721.599976</td>\n",
       "      <td>8.236505</td>\n",
       "      <td>0.880226</td>\n",
       "      <td>-9.16</td>\n",
       "      <td>12510.0</td>\n",
       "    </tr>\n",
       "    <tr>\n",
       "      <th>3</th>\n",
       "      <td>3</td>\n",
       "      <td>543.199829</td>\n",
       "      <td>0.382129</td>\n",
       "      <td>3.787286e+09</td>\n",
       "      <td>0</td>\n",
       "      <td>0</td>\n",
       "      <td>661.599976</td>\n",
       "      <td>7.838367</td>\n",
       "      <td>0.861325</td>\n",
       "      <td>-9.16</td>\n",
       "      <td>12510.0</td>\n",
       "    </tr>\n",
       "    <tr>\n",
       "      <th>4</th>\n",
       "      <td>4</td>\n",
       "      <td>1328.034302</td>\n",
       "      <td>0.510059</td>\n",
       "      <td>3.787286e+09</td>\n",
       "      <td>0</td>\n",
       "      <td>0</td>\n",
       "      <td>769.599976</td>\n",
       "      <td>1.959592</td>\n",
       "      <td>0.899736</td>\n",
       "      <td>-9.16</td>\n",
       "      <td>12510.0</td>\n",
       "    </tr>\n",
       "    <tr>\n",
       "      <th>...</th>\n",
       "      <td>...</td>\n",
       "      <td>...</td>\n",
       "      <td>...</td>\n",
       "      <td>...</td>\n",
       "      <td>...</td>\n",
       "      <td>...</td>\n",
       "      <td>...</td>\n",
       "      <td>...</td>\n",
       "      <td>...</td>\n",
       "      <td>...</td>\n",
       "      <td>...</td>\n",
       "    </tr>\n",
       "    <tr>\n",
       "      <th>2329995</th>\n",
       "      <td>3</td>\n",
       "      <td>324.449554</td>\n",
       "      <td>0.265820</td>\n",
       "      <td>3.787288e+09</td>\n",
       "      <td>0</td>\n",
       "      <td>0</td>\n",
       "      <td>674.400024</td>\n",
       "      <td>4.079216</td>\n",
       "      <td>0.888982</td>\n",
       "      <td>-9.16</td>\n",
       "      <td>13742.0</td>\n",
       "    </tr>\n",
       "    <tr>\n",
       "      <th>2329996</th>\n",
       "      <td>2</td>\n",
       "      <td>332.196289</td>\n",
       "      <td>0.184961</td>\n",
       "      <td>3.787288e+09</td>\n",
       "      <td>0</td>\n",
       "      <td>0</td>\n",
       "      <td>720.799988</td>\n",
       "      <td>1.600000</td>\n",
       "      <td>0.915332</td>\n",
       "      <td>-9.16</td>\n",
       "      <td>13742.0</td>\n",
       "    </tr>\n",
       "    <tr>\n",
       "      <th>2329997</th>\n",
       "      <td>6</td>\n",
       "      <td>658.450928</td>\n",
       "      <td>0.876172</td>\n",
       "      <td>3.787288e+09</td>\n",
       "      <td>0</td>\n",
       "      <td>0</td>\n",
       "      <td>782.400024</td>\n",
       "      <td>6.499231</td>\n",
       "      <td>0.879627</td>\n",
       "      <td>-9.16</td>\n",
       "      <td>13742.0</td>\n",
       "    </tr>\n",
       "    <tr>\n",
       "      <th>2329998</th>\n",
       "      <td>7</td>\n",
       "      <td>650.464661</td>\n",
       "      <td>0.844824</td>\n",
       "      <td>3.787288e+09</td>\n",
       "      <td>0</td>\n",
       "      <td>0</td>\n",
       "      <td>723.200012</td>\n",
       "      <td>6.400000</td>\n",
       "      <td>0.882970</td>\n",
       "      <td>-9.16</td>\n",
       "      <td>13742.0</td>\n",
       "    </tr>\n",
       "    <tr>\n",
       "      <th>2329999</th>\n",
       "      <td>4</td>\n",
       "      <td>387.866272</td>\n",
       "      <td>0.153613</td>\n",
       "      <td>3.787288e+09</td>\n",
       "      <td>0</td>\n",
       "      <td>0</td>\n",
       "      <td>765.599976</td>\n",
       "      <td>3.200000</td>\n",
       "      <td>0.950269</td>\n",
       "      <td>-9.16</td>\n",
       "      <td>13742.0</td>\n",
       "    </tr>\n",
       "  </tbody>\n",
       "</table>\n",
       "<p>2330000 rows × 11 columns</p>\n",
       "</div>"
      ],
      "text/plain": [
       "         channel     integral    height          time  istestpulse  error  \\\n",
       "0              5  1258.489746  0.756836  3.787286e+09            0      0   \n",
       "1              6  1299.349243  1.729395  3.787286e+09            0      1   \n",
       "2              2  1663.329346  0.942187  3.787286e+09            0      0   \n",
       "3              3   543.199829  0.382129  3.787286e+09            0      0   \n",
       "4              4  1328.034302  0.510059  3.787286e+09            0      0   \n",
       "...          ...          ...       ...           ...          ...    ...   \n",
       "2329995        3   324.449554  0.265820  3.787288e+09            0      0   \n",
       "2329996        2   332.196289  0.184961  3.787288e+09            0      0   \n",
       "2329997        6   658.450928  0.876172  3.787288e+09            0      0   \n",
       "2329998        7   650.464661  0.844824  3.787288e+09            0      0   \n",
       "2329999        4   387.866272  0.153613  3.787288e+09            0      0   \n",
       "\n",
       "           baseline       rms     ratio  humid      sec  \n",
       "0        660.000000  8.000000  0.872195  -9.16  12510.0  \n",
       "1        776.799988  2.993326  0.863694  -9.16  12510.0  \n",
       "2        721.599976  8.236505  0.880226  -9.16  12510.0  \n",
       "3        661.599976  7.838367  0.861325  -9.16  12510.0  \n",
       "4        769.599976  1.959592  0.899736  -9.16  12510.0  \n",
       "...             ...       ...       ...    ...      ...  \n",
       "2329995  674.400024  4.079216  0.888982  -9.16  13742.0  \n",
       "2329996  720.799988  1.600000  0.915332  -9.16  13742.0  \n",
       "2329997  782.400024  6.499231  0.879627  -9.16  13742.0  \n",
       "2329998  723.200012  6.400000  0.882970  -9.16  13742.0  \n",
       "2329999  765.599976  3.200000  0.950269  -9.16  13742.0  \n",
       "\n",
       "[2330000 rows x 11 columns]"
      ]
     },
     "execution_count": 8,
     "metadata": {},
     "output_type": "execute_result"
    }
   ],
   "source": [
    "# Let's have a look at how the data looks like\n",
    "data[['channel', 'integral', 'height', 'time', 'istestpulse', 'error', 'baseline', 'rms', 'ratio', 'humid', 'sec']]"
   ]
  },
  {
   "cell_type": "markdown",
   "metadata": {},
   "source": [
    "## plot a spectrum of a source, we are starting with Co60!"
   ]
  },
  {
   "cell_type": "code",
   "execution_count": 9,
   "metadata": {},
   "outputs": [],
   "source": [
    "mask =  (\n",
    "    (data['channel'] == 4 ) | (data['channel'] == 5 ) \n",
    "    & (data['istestpulse'] == 0) \n",
    "    & (data['error'] == 0) \n",
    ")\n",
    "co60 = data[mask]"
   ]
  },
  {
   "cell_type": "code",
   "execution_count": 10,
   "metadata": {},
   "outputs": [
    {
     "data": {
      "text/html": [
       "<div>\n",
       "<style scoped>\n",
       "    .dataframe tbody tr th:only-of-type {\n",
       "        vertical-align: middle;\n",
       "    }\n",
       "\n",
       "    .dataframe tbody tr th {\n",
       "        vertical-align: top;\n",
       "    }\n",
       "\n",
       "    .dataframe thead th {\n",
       "        text-align: right;\n",
       "    }\n",
       "</style>\n",
       "<table border=\"1\" class=\"dataframe\">\n",
       "  <thead>\n",
       "    <tr style=\"text-align: right;\">\n",
       "      <th></th>\n",
       "      <th>channel</th>\n",
       "      <th>integral</th>\n",
       "      <th>height</th>\n",
       "      <th>time</th>\n",
       "      <th>istestpulse</th>\n",
       "      <th>error</th>\n",
       "      <th>baseline</th>\n",
       "      <th>rms</th>\n",
       "      <th>ratio</th>\n",
       "      <th>temp</th>\n",
       "      <th>...</th>\n",
       "      <th>humid</th>\n",
       "      <th>sec</th>\n",
       "      <th>hv0</th>\n",
       "      <th>hv1</th>\n",
       "      <th>hv2</th>\n",
       "      <th>hv3</th>\n",
       "      <th>hv4</th>\n",
       "      <th>hv5</th>\n",
       "      <th>hv6</th>\n",
       "      <th>hv7</th>\n",
       "    </tr>\n",
       "  </thead>\n",
       "  <tbody>\n",
       "    <tr>\n",
       "      <th>0</th>\n",
       "      <td>5</td>\n",
       "      <td>1258.489746</td>\n",
       "      <td>0.756836</td>\n",
       "      <td>3.787286e+09</td>\n",
       "      <td>0</td>\n",
       "      <td>0</td>\n",
       "      <td>660.000000</td>\n",
       "      <td>8.000000</td>\n",
       "      <td>0.872195</td>\n",
       "      <td>29.4</td>\n",
       "      <td>...</td>\n",
       "      <td>-9.16</td>\n",
       "      <td>12510.0</td>\n",
       "      <td>619.099976</td>\n",
       "      <td>709.400024</td>\n",
       "      <td>679.400024</td>\n",
       "      <td>699.400024</td>\n",
       "      <td>989.299988</td>\n",
       "      <td>669.000000</td>\n",
       "      <td>659.0</td>\n",
       "      <td>729.099976</td>\n",
       "    </tr>\n",
       "    <tr>\n",
       "      <th>4</th>\n",
       "      <td>4</td>\n",
       "      <td>1328.034302</td>\n",
       "      <td>0.510059</td>\n",
       "      <td>3.787286e+09</td>\n",
       "      <td>0</td>\n",
       "      <td>0</td>\n",
       "      <td>769.599976</td>\n",
       "      <td>1.959592</td>\n",
       "      <td>0.899736</td>\n",
       "      <td>29.4</td>\n",
       "      <td>...</td>\n",
       "      <td>-9.16</td>\n",
       "      <td>12510.0</td>\n",
       "      <td>619.099976</td>\n",
       "      <td>709.400024</td>\n",
       "      <td>679.400024</td>\n",
       "      <td>699.400024</td>\n",
       "      <td>989.299988</td>\n",
       "      <td>669.000000</td>\n",
       "      <td>659.0</td>\n",
       "      <td>729.099976</td>\n",
       "    </tr>\n",
       "    <tr>\n",
       "      <th>9</th>\n",
       "      <td>4</td>\n",
       "      <td>1211.037231</td>\n",
       "      <td>0.442285</td>\n",
       "      <td>3.787286e+09</td>\n",
       "      <td>0</td>\n",
       "      <td>0</td>\n",
       "      <td>768.799988</td>\n",
       "      <td>5.306600</td>\n",
       "      <td>0.901098</td>\n",
       "      <td>29.4</td>\n",
       "      <td>...</td>\n",
       "      <td>-9.16</td>\n",
       "      <td>12510.0</td>\n",
       "      <td>619.099976</td>\n",
       "      <td>709.400024</td>\n",
       "      <td>679.400024</td>\n",
       "      <td>699.400024</td>\n",
       "      <td>989.299988</td>\n",
       "      <td>669.000000</td>\n",
       "      <td>659.0</td>\n",
       "      <td>729.099976</td>\n",
       "    </tr>\n",
       "    <tr>\n",
       "      <th>15</th>\n",
       "      <td>4</td>\n",
       "      <td>893.122253</td>\n",
       "      <td>0.337598</td>\n",
       "      <td>3.787286e+09</td>\n",
       "      <td>0</td>\n",
       "      <td>0</td>\n",
       "      <td>766.400024</td>\n",
       "      <td>5.425864</td>\n",
       "      <td>0.908753</td>\n",
       "      <td>29.4</td>\n",
       "      <td>...</td>\n",
       "      <td>-9.16</td>\n",
       "      <td>12510.0</td>\n",
       "      <td>619.099976</td>\n",
       "      <td>709.400024</td>\n",
       "      <td>679.400024</td>\n",
       "      <td>699.400024</td>\n",
       "      <td>989.299988</td>\n",
       "      <td>669.000000</td>\n",
       "      <td>659.0</td>\n",
       "      <td>729.099976</td>\n",
       "    </tr>\n",
       "    <tr>\n",
       "      <th>16</th>\n",
       "      <td>5</td>\n",
       "      <td>241.214294</td>\n",
       "      <td>0.177051</td>\n",
       "      <td>3.787286e+09</td>\n",
       "      <td>0</td>\n",
       "      <td>0</td>\n",
       "      <td>665.599976</td>\n",
       "      <td>3.200000</td>\n",
       "      <td>0.936039</td>\n",
       "      <td>29.4</td>\n",
       "      <td>...</td>\n",
       "      <td>-9.16</td>\n",
       "      <td>12510.0</td>\n",
       "      <td>619.099976</td>\n",
       "      <td>709.400024</td>\n",
       "      <td>679.400024</td>\n",
       "      <td>699.400024</td>\n",
       "      <td>989.299988</td>\n",
       "      <td>669.000000</td>\n",
       "      <td>659.0</td>\n",
       "      <td>729.099976</td>\n",
       "    </tr>\n",
       "    <tr>\n",
       "      <th>...</th>\n",
       "      <td>...</td>\n",
       "      <td>...</td>\n",
       "      <td>...</td>\n",
       "      <td>...</td>\n",
       "      <td>...</td>\n",
       "      <td>...</td>\n",
       "      <td>...</td>\n",
       "      <td>...</td>\n",
       "      <td>...</td>\n",
       "      <td>...</td>\n",
       "      <td>...</td>\n",
       "      <td>...</td>\n",
       "      <td>...</td>\n",
       "      <td>...</td>\n",
       "      <td>...</td>\n",
       "      <td>...</td>\n",
       "      <td>...</td>\n",
       "      <td>...</td>\n",
       "      <td>...</td>\n",
       "      <td>...</td>\n",
       "      <td>...</td>\n",
       "    </tr>\n",
       "    <tr>\n",
       "      <th>2329944</th>\n",
       "      <td>5</td>\n",
       "      <td>1685.615356</td>\n",
       "      <td>1.051758</td>\n",
       "      <td>3.787288e+09</td>\n",
       "      <td>0</td>\n",
       "      <td>0</td>\n",
       "      <td>664.000000</td>\n",
       "      <td>2.529822</td>\n",
       "      <td>0.873661</td>\n",
       "      <td>29.4</td>\n",
       "      <td>...</td>\n",
       "      <td>-9.16</td>\n",
       "      <td>13742.0</td>\n",
       "      <td>619.099976</td>\n",
       "      <td>709.400024</td>\n",
       "      <td>679.400024</td>\n",
       "      <td>699.400024</td>\n",
       "      <td>989.200012</td>\n",
       "      <td>668.900024</td>\n",
       "      <td>659.0</td>\n",
       "      <td>729.099976</td>\n",
       "    </tr>\n",
       "    <tr>\n",
       "      <th>2329954</th>\n",
       "      <td>4</td>\n",
       "      <td>1170.944702</td>\n",
       "      <td>0.427832</td>\n",
       "      <td>3.787288e+09</td>\n",
       "      <td>0</td>\n",
       "      <td>0</td>\n",
       "      <td>767.200012</td>\n",
       "      <td>2.993326</td>\n",
       "      <td>0.895789</td>\n",
       "      <td>29.4</td>\n",
       "      <td>...</td>\n",
       "      <td>-9.16</td>\n",
       "      <td>13742.0</td>\n",
       "      <td>619.099976</td>\n",
       "      <td>709.400024</td>\n",
       "      <td>679.400024</td>\n",
       "      <td>699.400024</td>\n",
       "      <td>989.200012</td>\n",
       "      <td>668.900024</td>\n",
       "      <td>659.0</td>\n",
       "      <td>729.099976</td>\n",
       "    </tr>\n",
       "    <tr>\n",
       "      <th>2329955</th>\n",
       "      <td>5</td>\n",
       "      <td>454.636932</td>\n",
       "      <td>0.289746</td>\n",
       "      <td>3.787288e+09</td>\n",
       "      <td>0</td>\n",
       "      <td>0</td>\n",
       "      <td>662.400024</td>\n",
       "      <td>1.959592</td>\n",
       "      <td>0.899825</td>\n",
       "      <td>29.4</td>\n",
       "      <td>...</td>\n",
       "      <td>-9.16</td>\n",
       "      <td>13742.0</td>\n",
       "      <td>619.099976</td>\n",
       "      <td>709.400024</td>\n",
       "      <td>679.400024</td>\n",
       "      <td>699.400024</td>\n",
       "      <td>989.200012</td>\n",
       "      <td>668.900024</td>\n",
       "      <td>659.0</td>\n",
       "      <td>729.099976</td>\n",
       "    </tr>\n",
       "    <tr>\n",
       "      <th>2329988</th>\n",
       "      <td>4</td>\n",
       "      <td>1015.859863</td>\n",
       "      <td>0.375977</td>\n",
       "      <td>3.787288e+09</td>\n",
       "      <td>0</td>\n",
       "      <td>0</td>\n",
       "      <td>772.000000</td>\n",
       "      <td>4.381781</td>\n",
       "      <td>0.898980</td>\n",
       "      <td>29.4</td>\n",
       "      <td>...</td>\n",
       "      <td>-9.16</td>\n",
       "      <td>13742.0</td>\n",
       "      <td>619.099976</td>\n",
       "      <td>709.400024</td>\n",
       "      <td>679.400024</td>\n",
       "      <td>699.400024</td>\n",
       "      <td>989.200012</td>\n",
       "      <td>668.900024</td>\n",
       "      <td>659.0</td>\n",
       "      <td>729.099976</td>\n",
       "    </tr>\n",
       "    <tr>\n",
       "      <th>2329999</th>\n",
       "      <td>4</td>\n",
       "      <td>387.866272</td>\n",
       "      <td>0.153613</td>\n",
       "      <td>3.787288e+09</td>\n",
       "      <td>0</td>\n",
       "      <td>0</td>\n",
       "      <td>765.599976</td>\n",
       "      <td>3.200000</td>\n",
       "      <td>0.950269</td>\n",
       "      <td>29.4</td>\n",
       "      <td>...</td>\n",
       "      <td>-9.16</td>\n",
       "      <td>13742.0</td>\n",
       "      <td>619.099976</td>\n",
       "      <td>709.400024</td>\n",
       "      <td>679.400024</td>\n",
       "      <td>699.400024</td>\n",
       "      <td>989.200012</td>\n",
       "      <td>668.900024</td>\n",
       "      <td>659.0</td>\n",
       "      <td>729.099976</td>\n",
       "    </tr>\n",
       "  </tbody>\n",
       "</table>\n",
       "<p>349816 rows × 25 columns</p>\n",
       "</div>"
      ],
      "text/plain": [
       "         channel     integral    height          time  istestpulse  error  \\\n",
       "0              5  1258.489746  0.756836  3.787286e+09            0      0   \n",
       "4              4  1328.034302  0.510059  3.787286e+09            0      0   \n",
       "9              4  1211.037231  0.442285  3.787286e+09            0      0   \n",
       "15             4   893.122253  0.337598  3.787286e+09            0      0   \n",
       "16             5   241.214294  0.177051  3.787286e+09            0      0   \n",
       "...          ...          ...       ...           ...          ...    ...   \n",
       "2329944        5  1685.615356  1.051758  3.787288e+09            0      0   \n",
       "2329954        4  1170.944702  0.427832  3.787288e+09            0      0   \n",
       "2329955        5   454.636932  0.289746  3.787288e+09            0      0   \n",
       "2329988        4  1015.859863  0.375977  3.787288e+09            0      0   \n",
       "2329999        4   387.866272  0.153613  3.787288e+09            0      0   \n",
       "\n",
       "           baseline       rms     ratio  temp  ...  humid      sec  \\\n",
       "0        660.000000  8.000000  0.872195  29.4  ...  -9.16  12510.0   \n",
       "4        769.599976  1.959592  0.899736  29.4  ...  -9.16  12510.0   \n",
       "9        768.799988  5.306600  0.901098  29.4  ...  -9.16  12510.0   \n",
       "15       766.400024  5.425864  0.908753  29.4  ...  -9.16  12510.0   \n",
       "16       665.599976  3.200000  0.936039  29.4  ...  -9.16  12510.0   \n",
       "...             ...       ...       ...   ...  ...    ...      ...   \n",
       "2329944  664.000000  2.529822  0.873661  29.4  ...  -9.16  13742.0   \n",
       "2329954  767.200012  2.993326  0.895789  29.4  ...  -9.16  13742.0   \n",
       "2329955  662.400024  1.959592  0.899825  29.4  ...  -9.16  13742.0   \n",
       "2329988  772.000000  4.381781  0.898980  29.4  ...  -9.16  13742.0   \n",
       "2329999  765.599976  3.200000  0.950269  29.4  ...  -9.16  13742.0   \n",
       "\n",
       "                hv0         hv1         hv2         hv3         hv4  \\\n",
       "0        619.099976  709.400024  679.400024  699.400024  989.299988   \n",
       "4        619.099976  709.400024  679.400024  699.400024  989.299988   \n",
       "9        619.099976  709.400024  679.400024  699.400024  989.299988   \n",
       "15       619.099976  709.400024  679.400024  699.400024  989.299988   \n",
       "16       619.099976  709.400024  679.400024  699.400024  989.299988   \n",
       "...             ...         ...         ...         ...         ...   \n",
       "2329944  619.099976  709.400024  679.400024  699.400024  989.200012   \n",
       "2329954  619.099976  709.400024  679.400024  699.400024  989.200012   \n",
       "2329955  619.099976  709.400024  679.400024  699.400024  989.200012   \n",
       "2329988  619.099976  709.400024  679.400024  699.400024  989.200012   \n",
       "2329999  619.099976  709.400024  679.400024  699.400024  989.200012   \n",
       "\n",
       "                hv5    hv6         hv7  \n",
       "0        669.000000  659.0  729.099976  \n",
       "4        669.000000  659.0  729.099976  \n",
       "9        669.000000  659.0  729.099976  \n",
       "15       669.000000  659.0  729.099976  \n",
       "16       669.000000  659.0  729.099976  \n",
       "...             ...    ...         ...  \n",
       "2329944  668.900024  659.0  729.099976  \n",
       "2329954  668.900024  659.0  729.099976  \n",
       "2329955  668.900024  659.0  729.099976  \n",
       "2329988  668.900024  659.0  729.099976  \n",
       "2329999  668.900024  659.0  729.099976  \n",
       "\n",
       "[349816 rows x 25 columns]"
      ]
     },
     "execution_count": 10,
     "metadata": {},
     "output_type": "execute_result"
    }
   ],
   "source": [
    "co60"
   ]
  },
  {
   "cell_type": "code",
   "execution_count": 11,
   "metadata": {},
   "outputs": [
    {
     "data": {
      "image/png": "[encoded data removed]",
      "text/plain": [
       "<Figure size 432x288 with 1 Axes>"
      ]
     },
     "metadata": {
      "needs_background": "light"
     },
     "output_type": "display_data"
    },
    {
     "data": {
      "image/png": "[encoded data removed]",
      "text/plain": [
       "<Figure size 432x288 with 1 Axes>"
      ]
     },
     "metadata": {
      "needs_background": "light"
     },
     "output_type": "display_data"
    }
   ],
   "source": [
    "for ch in np.unique(co60['channel']):\n",
    "    plt.title('Sectrum of ${}^{60}$Co'f', ch{ch}')\n",
    "    selection = (co60['channel']==ch)\n",
    "    plt.hist(co60[selection]['integral'].values, bins = 300, range=[0,3000])\n",
    "    plt.yscale('log')\n",
    "    plt.ylim(10,plt.ylim()[-1])\n",
    "    plt.axvline(1173.2, c = 'r', linestyle = '--')\n",
    "    plt.axvline(1332.5, c = 'b', linestyle = '--')\n",
    "    plt.xlabel('E [keV]')\n",
    "    plt.ylabel('Counts / 10 keV')\n",
    "    plt.show()"
   ]
  },
  {
   "cell_type": "markdown",
   "metadata": {},
   "source": [
    "## Save small selection\n",
    "For further use cases we want to save a copy where we have somewhat less data such that we can use this to do small tests with.\n",
    "\n",
    "This is actually where the CSV file that was used in the previous tutorials was created. You can see that we have capped the max number of events in this file to 100000."
   ]
  },
  {
   "cell_type": "code",
   "execution_count": 23,
   "metadata": {},
   "outputs": [],
   "source": [
    "co60[['channel', 'integral','time']][:100000].to_csv('../data/Co60_sample.csv',index=False)"
   ]
  },
  {
   "cell_type": "markdown",
   "metadata": {},
   "source": [
    "# Ti44\n",
    "\n",
    "Below, we'll do the same thing as we have done earlier for Co60 in the 3rd session. Now we'll do the same for Ti44 but with much higher statistics!\n",
    "\n",
    "Can you again explain all of the spectrum we will see below? Good luck!"
   ]
  },
  {
   "cell_type": "code",
   "execution_count": 15,
   "metadata": {},
   "outputs": [],
   "source": [
    "from coincidence_matching import *"
   ]
  },
  {
   "cell_type": "code",
   "execution_count": 16,
   "metadata": {},
   "outputs": [],
   "source": [
    "# Let's cut out some data where we are not interested in anyway\n",
    "mask =  ((data['istestpulse'] == 0)  & (data['error'] == 0) )\n",
    "data = data[mask]"
   ]
  },
  {
   "cell_type": "code",
   "execution_count": 17,
   "metadata": {},
   "outputs": [
    {
     "name": "stdout",
     "output_type": "stream",
     "text": [
      "Pay attention, we are going to go through quite a lot of data!\n",
      "The data we are using now is a staggering 2293930 events (that is ~2 million!)\n"
     ]
    }
   ],
   "source": [
    "print(f'Pay attention, we are going to go through quite a lot of data!\\n'\n",
    "      f'The data we are using now is a staggering {len(data)} events (that is ~{int(len(data)/1e6)} million!)')"
   ]
  },
  {
   "cell_type": "code",
   "execution_count": 18,
   "metadata": {},
   "outputs": [
    {
     "name": "stdout",
     "output_type": "stream",
     "text": [
      "CPU times: user 2 s, sys: 31.3 ms, total: 2.03 s\n",
      "Wall time: 2.13 s\n"
     ]
    }
   ],
   "source": [
    "%%time\n",
    "matched_ti44 = easy_coincidence_matching(data, source='Ti44', check_time_order = False)"
   ]
  },
  {
   "cell_type": "code",
   "execution_count": 19,
   "metadata": {},
   "outputs": [
    {
     "name": "stdout",
     "output_type": "stream",
     "text": [
      "CPU times: user 838 ms, sys: 4.04 ms, total: 842 ms\n",
      "Wall time: 841 ms\n"
     ]
    }
   ],
   "source": [
    "%%time\n",
    "matched_ti44 = easy_coincidence_matching(data, source='Ti44', check_time_order = False)"
   ]
  },
  {
   "cell_type": "code",
   "execution_count": 20,
   "metadata": {},
   "outputs": [
    {
     "data": {
      "text/html": [
       "<div>\n",
       "<style scoped>\n",
       "    .dataframe tbody tr th:only-of-type {\n",
       "        vertical-align: middle;\n",
       "    }\n",
       "\n",
       "    .dataframe tbody tr th {\n",
       "        vertical-align: top;\n",
       "    }\n",
       "\n",
       "    .dataframe thead th {\n",
       "        text-align: right;\n",
       "    }\n",
       "</style>\n",
       "<table border=\"1\" class=\"dataframe\">\n",
       "  <thead>\n",
       "    <tr style=\"text-align: right;\">\n",
       "      <th></th>\n",
       "      <th>e_ch2</th>\n",
       "      <th>e_ch3</th>\n",
       "      <th>t_ch2</th>\n",
       "      <th>t_ch3</th>\n",
       "    </tr>\n",
       "  </thead>\n",
       "  <tbody>\n",
       "    <tr>\n",
       "      <th>0</th>\n",
       "      <td>1663.329346</td>\n",
       "      <td>543.199829</td>\n",
       "      <td>3.787286e+09</td>\n",
       "      <td>3.787286e+09</td>\n",
       "    </tr>\n",
       "    <tr>\n",
       "      <th>1</th>\n",
       "      <td>501.850494</td>\n",
       "      <td>534.243225</td>\n",
       "      <td>3.787286e+09</td>\n",
       "      <td>3.787286e+09</td>\n",
       "    </tr>\n",
       "    <tr>\n",
       "      <th>2</th>\n",
       "      <td>668.394592</td>\n",
       "      <td>302.602966</td>\n",
       "      <td>3.787286e+09</td>\n",
       "      <td>3.787286e+09</td>\n",
       "    </tr>\n",
       "    <tr>\n",
       "      <th>3</th>\n",
       "      <td>584.177307</td>\n",
       "      <td>1112.822632</td>\n",
       "      <td>3.787286e+09</td>\n",
       "      <td>3.787286e+09</td>\n",
       "    </tr>\n",
       "    <tr>\n",
       "      <th>4</th>\n",
       "      <td>1211.873535</td>\n",
       "      <td>651.058533</td>\n",
       "      <td>3.787286e+09</td>\n",
       "      <td>3.787286e+09</td>\n",
       "    </tr>\n",
       "    <tr>\n",
       "      <th>...</th>\n",
       "      <td>...</td>\n",
       "      <td>...</td>\n",
       "      <td>...</td>\n",
       "      <td>...</td>\n",
       "    </tr>\n",
       "    <tr>\n",
       "      <th>397110</th>\n",
       "      <td>513.559204</td>\n",
       "      <td>848.104431</td>\n",
       "      <td>3.787288e+09</td>\n",
       "      <td>3.787288e+09</td>\n",
       "    </tr>\n",
       "    <tr>\n",
       "      <th>397111</th>\n",
       "      <td>500.447906</td>\n",
       "      <td>520.831970</td>\n",
       "      <td>3.787288e+09</td>\n",
       "      <td>3.787288e+09</td>\n",
       "    </tr>\n",
       "    <tr>\n",
       "      <th>397112</th>\n",
       "      <td>528.500000</td>\n",
       "      <td>391.742767</td>\n",
       "      <td>3.787288e+09</td>\n",
       "      <td>3.787288e+09</td>\n",
       "    </tr>\n",
       "    <tr>\n",
       "      <th>397113</th>\n",
       "      <td>534.476318</td>\n",
       "      <td>517.040833</td>\n",
       "      <td>3.787288e+09</td>\n",
       "      <td>3.787288e+09</td>\n",
       "    </tr>\n",
       "    <tr>\n",
       "      <th>397114</th>\n",
       "      <td>613.449097</td>\n",
       "      <td>253.886475</td>\n",
       "      <td>3.787288e+09</td>\n",
       "      <td>3.787288e+09</td>\n",
       "    </tr>\n",
       "  </tbody>\n",
       "</table>\n",
       "<p>397115 rows × 4 columns</p>\n",
       "</div>"
      ],
      "text/plain": [
       "              e_ch2        e_ch3         t_ch2         t_ch3\n",
       "0       1663.329346   543.199829  3.787286e+09  3.787286e+09\n",
       "1        501.850494   534.243225  3.787286e+09  3.787286e+09\n",
       "2        668.394592   302.602966  3.787286e+09  3.787286e+09\n",
       "3        584.177307  1112.822632  3.787286e+09  3.787286e+09\n",
       "4       1211.873535   651.058533  3.787286e+09  3.787286e+09\n",
       "...             ...          ...           ...           ...\n",
       "397110   513.559204   848.104431  3.787288e+09  3.787288e+09\n",
       "397111   500.447906   520.831970  3.787288e+09  3.787288e+09\n",
       "397112   528.500000   391.742767  3.787288e+09  3.787288e+09\n",
       "397113   534.476318   517.040833  3.787288e+09  3.787288e+09\n",
       "397114   613.449097   253.886475  3.787288e+09  3.787288e+09\n",
       "\n",
       "[397115 rows x 4 columns]"
      ]
     },
     "execution_count": 20,
     "metadata": {},
     "output_type": "execute_result"
    }
   ],
   "source": [
    "matched_ti44"
   ]
  },
  {
   "cell_type": "code",
   "execution_count": 21,
   "metadata": {
    "scrolled": false
   },
   "outputs": [
    {
     "data": {
      "text/plain": [
       "<matplotlib.lines.Line2D at 0x7fe9d26c5c10>"
      ]
     },
     "execution_count": 21,
     "metadata": {},
     "output_type": "execute_result"
    },
    {
     "data": {
      "image/png": "[encoded data removed]",
      "text/plain": [
       "<Figure size 720x504 with 2 Axes>"
      ]
     },
     "metadata": {
      "needs_background": "light"
     },
     "output_type": "display_data"
    }
   ],
   "source": [
    "plt.figure(figsize=(10,7))\n",
    "plt.hist2d(\n",
    "    matched_ti44['e_ch2'],\n",
    "    matched_ti44['e_ch3'], \n",
    "    bins = 200, \n",
    "    norm=LogNorm(),\n",
    "    range=[[0,2000],[0,2000]]);\n",
    "plt.plot([511,0], [0,511], linestyle = '--', linewidth = 2, c = 'cyan')\n",
    "plt.plot([0,511], [511,0], linestyle = '--', linewidth = 2, c = 'lightgreen')\n",
    "plt.plot([0,511+511], [511+511,0], linestyle = '--', linewidth = 2, c = 'green')\n",
    "plt.gca().set_aspect(1)\n",
    "plt.colorbar(label='Counts/bin')\n",
    "plt.xlabel('Energy ch2 [keV]')\n",
    "plt.ylabel('Energy ch3 [keV]')\n",
    "plt.title('Coincidence ${}^{44}$Ti');\n",
    "plt.axvline(511, c = 'r', linestyle = '--')\n",
    "plt.axhline(511, c = 'r', linestyle = '--')\n",
    "plt.axvline(511*2, c = 'b', linestyle = '--')\n",
    "plt.axhline(511*2, c = 'b', linestyle = '--')\n",
    "plt.axvline(1157, c = 'purple', linestyle = '--', label = '1157 keV')\n",
    "plt.axhline(1157, c = 'purple', linestyle = '--', label = '1157 keV')"
   ]
  },
  {
   "cell_type": "code",
   "execution_count": 22,
   "metadata": {},
   "outputs": [
    {
     "data": {
      "image/png": "[encoded data removed]",
      "text/plain": [
       "<Figure size 432x288 with 1 Axes>"
      ]
     },
     "metadata": {
      "needs_background": "light"
     },
     "output_type": "display_data"
    }
   ],
   "source": [
    "selected_data = select_peak(matched_ti44, 'e_ch2', energy = 511, energy_range = 50)\n",
    "plt.hist(selected_data['e_ch2'], bins = 200, range=[0,2000], label = 'Selected peak channel 2')\n",
    "plt.hist(selected_data['e_ch3'], bins = 200, range=[0,2000], label = 'Coincident in channel 3')\n",
    "plt.hist(matched_ti44['e_ch3'], bins = 200, range=[0,2000], label = 'All data 3', alpha = 0.3)\n",
    "plt.axvline(511, c = 'r', linestyle = '--', label = '511 keV')\n",
    "plt.axvline(1157, c = 'green', linestyle = '--', label = '1157 keV')\n",
    "plt.axvline(1157+511, c = 'purple', linestyle = '--', label = f'{1157+511} keV')\n",
    "plt.yscale('log')\n",
    "plt.legend(loc=(1,0))\n",
    "plt.xlabel('Energy [keV]')\n",
    "plt.ylabel('Counts / 10 keV')\n",
    "plt.ylim(ymin=50);"
   ]
  },
  {
   "cell_type": "code",
   "execution_count": null,
   "metadata": {},
   "outputs": [],
   "source": []
  }
 ],
 "metadata": {
  "kernelspec": {
   "display_name": "Python 3",
   "language": "python",
   "name": "python3"
  },
  "language_info": {
   "codemirror_mode": {
    "name": "ipython",
    "version": 3
   },
   "file_extension": ".py",
   "mimetype": "text/x-python",
   "name": "python",
   "nbconvert_exporter": "python",
   "pygments_lexer": "ipython3",
   "version": "3.7.6"
  }
 },
 "nbformat": 4,
 "nbformat_minor": 4
}
