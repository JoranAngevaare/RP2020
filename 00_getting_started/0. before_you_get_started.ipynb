{
 "cells": [
  {
   "cell_type": "markdown",
   "metadata": {},
   "source": [
    "# Before you get started\n",
    "Author:\n",
    "\n",
    "J. Angevaare // <j.angevaare@nikhef.nl> // 2020-05-25"
   ]
  },
  {
   "cell_type": "markdown",
   "metadata": {},
   "source": [
    "-----------\n",
    "\n",
    "# What is this project about anyway?\n",
    "\n",
    "Good question! We have recorded an introduction for you guys so you can start with that:\n",
    "  - https://drive.google.com/file/d/140Y-svJHJQeuvn8JhJMkKJjveL0PqaPa/view?usp=sharing\n",
    "  \n",
    "There are some questions in there that you want to figure out before you continue, otherwise you'll have no idea what you are doing. You may find it very helpful that we have actually nicely written down what this 'Modulation' experiment actually is. This is the experiment where also the data that you are going to look at is coming from. The paper can be found here:\n",
    "  - https://arxiv.org/abs/1804.02765\n",
    "  \n",
    "After that, you can continue doing some (essential) checks below and start with the next tutorial where we take a look at a Co-60 spectrum.\n",
    "\n",
    "-----------"
   ]
  },
  {
   "cell_type": "markdown",
   "metadata": {},
   "source": [
    "-----------\n",
    "## Checking the packages\n",
    "Before we can start with actually opening files and generating spectra we need to make sure you have a working python environment to work in. To this end we first need to have to cell below working otherwise we may need to install some packages.\n",
    "\n",
    "Execute the cell below:"
   ]
  },
  {
   "cell_type": "code",
   "execution_count": 3,
   "metadata": {},
   "outputs": [],
   "source": [
    "import pandas as pd\n",
    "import numpy as np\n",
    "import matplotlib.pyplot as plt\n",
    "import uproot\n",
    "import numba"
   ]
  },
  {
   "cell_type": "markdown",
   "metadata": {},
   "source": [
    "If you get somthing  like:\n",
    "```\n",
    "---------------------------------------------------------------------------\n",
    "ModuleNotFoundError                       Traceback (most recent call last)\n",
    "<ipython-input-2-b7b06ad0c640> in <module>\n",
    "----> 1 import numba\n",
    "\n",
    "ModuleNotFoundError: No module named 'numba'\n",
    "```\n",
    "we need to install that. You can do this by for example uncommenting the relevant line below (or if you are lazy just execute all of them or the last one)."
   ]
  },
  {
   "cell_type": "code",
   "execution_count": 6,
   "metadata": {},
   "outputs": [],
   "source": [
    "# # Uncomment whatever you need\n",
    "# !pip install pandas\n",
    "# !pip install numpy\n",
    "# !pip install uproot\n",
    "# !pip install numba\n",
    "# !pip install matplotlib"
   ]
  },
  {
   "cell_type": "code",
   "execution_count": 5,
   "metadata": {},
   "outputs": [],
   "source": [
    "# # Or, if you are lazy do this:\n",
    "# !pip install pandas numpy uproot numba matplotlib"
   ]
  },
  {
   "cell_type": "markdown",
   "metadata": {},
   "source": [
    "# Checking python version\n",
    "We assume you have python 3.6 or higher. Check that using the lines below:"
   ]
  },
  {
   "cell_type": "code",
   "execution_count": 9,
   "metadata": {},
   "outputs": [
    {
     "name": "stdout",
     "output_type": "stream",
     "text": [
      "3.8.3\n"
     ]
    }
   ],
   "source": [
    "import platform\n",
    "print(platform.python_version())"
   ]
  },
  {
   "cell_type": "code",
   "execution_count": 12,
   "metadata": {},
   "outputs": [
    {
     "name": "stdout",
     "output_type": "stream",
     "text": [
      "This wonderderfull line will not work in old python versions. If it does you have a good version: v3.8.3\n"
     ]
    }
   ],
   "source": [
    "print(f'This wonderderfull line will not work in old python versions. '\n",
    "      f'If it does you have a good version: v{platform.python_version()}')"
   ]
  }
 ],
 "metadata": {
  "kernelspec": {
   "display_name": "Python 3",
   "language": "python",
   "name": "python3"
  },
  "language_info": {
   "codemirror_mode": {
    "name": "ipython",
    "version": 3
   },
   "file_extension": ".py",
   "mimetype": "text/x-python",
   "name": "python",
   "nbconvert_exporter": "python",
   "pygments_lexer": "ipython3",
   "version": "3.8.3"
  }
 },
 "nbformat": 4,
 "nbformat_minor": 4
}
