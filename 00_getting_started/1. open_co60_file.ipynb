{
 "cells": [
  {
   "cell_type": "markdown",
   "metadata": {},
   "source": [
    "# Open data of ${}^{60}$Co\n",
    "Author:\n",
    "\n",
    "J. Angevaare // <j.angevaare@nikhef.nl> // 2020-05-25"
   ]
  },
  {
   "cell_type": "markdown",
   "metadata": {},
   "source": [
    "Below we:\n",
    " - read a file of ${}^{60}$Co-data\n",
    " - Plot ${}^{60}$Co spectrum "
   ]
  },
  {
   "cell_type": "markdown",
   "metadata": {},
   "source": [
    "## Open the data"
   ]
  },
  {
   "cell_type": "code",
   "execution_count": 1,
   "metadata": {},
   "outputs": [],
   "source": [
    "import pandas as pd\n",
    "import numpy as np\n",
    "import matplotlib.pyplot as plt\n",
    "from matplotlib.colors import LogNorm"
   ]
  },
  {
   "cell_type": "code",
   "execution_count": 2,
   "metadata": {},
   "outputs": [],
   "source": [
    "# Let's look at the first root file in the list above\n",
    "path = '../data/Co60_sample.csv'"
   ]
  },
  {
   "cell_type": "code",
   "execution_count": 3,
   "metadata": {},
   "outputs": [],
   "source": [
    "co60 = pd.read_csv(path)"
   ]
  },
  {
   "cell_type": "code",
   "execution_count": 4,
   "metadata": {},
   "outputs": [
    {
     "data": {
      "text/html": [
       "<div>\n",
       "<style scoped>\n",
       "    .dataframe tbody tr th:only-of-type {\n",
       "        vertical-align: middle;\n",
       "    }\n",
       "\n",
       "    .dataframe tbody tr th {\n",
       "        vertical-align: top;\n",
       "    }\n",
       "\n",
       "    .dataframe thead th {\n",
       "        text-align: right;\n",
       "    }\n",
       "</style>\n",
       "<table border=\"1\" class=\"dataframe\">\n",
       "  <thead>\n",
       "    <tr style=\"text-align: right;\">\n",
       "      <th></th>\n",
       "      <th>channel</th>\n",
       "      <th>integral</th>\n",
       "      <th>time</th>\n",
       "    </tr>\n",
       "  </thead>\n",
       "  <tbody>\n",
       "    <tr>\n",
       "      <th>0</th>\n",
       "      <td>5</td>\n",
       "      <td>1258.48970</td>\n",
       "      <td>3.787286e+09</td>\n",
       "    </tr>\n",
       "    <tr>\n",
       "      <th>1</th>\n",
       "      <td>4</td>\n",
       "      <td>1328.03430</td>\n",
       "      <td>3.787286e+09</td>\n",
       "    </tr>\n",
       "    <tr>\n",
       "      <th>2</th>\n",
       "      <td>4</td>\n",
       "      <td>1211.03720</td>\n",
       "      <td>3.787286e+09</td>\n",
       "    </tr>\n",
       "    <tr>\n",
       "      <th>3</th>\n",
       "      <td>4</td>\n",
       "      <td>893.12225</td>\n",
       "      <td>3.787286e+09</td>\n",
       "    </tr>\n",
       "    <tr>\n",
       "      <th>4</th>\n",
       "      <td>5</td>\n",
       "      <td>241.21430</td>\n",
       "      <td>3.787286e+09</td>\n",
       "    </tr>\n",
       "    <tr>\n",
       "      <th>...</th>\n",
       "      <td>...</td>\n",
       "      <td>...</td>\n",
       "      <td>...</td>\n",
       "    </tr>\n",
       "    <tr>\n",
       "      <th>99995</th>\n",
       "      <td>4</td>\n",
       "      <td>1379.15210</td>\n",
       "      <td>3.787287e+09</td>\n",
       "    </tr>\n",
       "    <tr>\n",
       "      <th>99996</th>\n",
       "      <td>5</td>\n",
       "      <td>777.09750</td>\n",
       "      <td>3.787287e+09</td>\n",
       "    </tr>\n",
       "    <tr>\n",
       "      <th>99997</th>\n",
       "      <td>4</td>\n",
       "      <td>1734.06140</td>\n",
       "      <td>3.787287e+09</td>\n",
       "    </tr>\n",
       "    <tr>\n",
       "      <th>99998</th>\n",
       "      <td>4</td>\n",
       "      <td>1367.85340</td>\n",
       "      <td>3.787287e+09</td>\n",
       "    </tr>\n",
       "    <tr>\n",
       "      <th>99999</th>\n",
       "      <td>4</td>\n",
       "      <td>645.00470</td>\n",
       "      <td>3.787287e+09</td>\n",
       "    </tr>\n",
       "  </tbody>\n",
       "</table>\n",
       "<p>100000 rows × 3 columns</p>\n",
       "</div>"
      ],
      "text/plain": [
       "       channel    integral          time\n",
       "0            5  1258.48970  3.787286e+09\n",
       "1            4  1328.03430  3.787286e+09\n",
       "2            4  1211.03720  3.787286e+09\n",
       "3            4   893.12225  3.787286e+09\n",
       "4            5   241.21430  3.787286e+09\n",
       "...        ...         ...           ...\n",
       "99995        4  1379.15210  3.787287e+09\n",
       "99996        5   777.09750  3.787287e+09\n",
       "99997        4  1734.06140  3.787287e+09\n",
       "99998        4  1367.85340  3.787287e+09\n",
       "99999        4   645.00470  3.787287e+09\n",
       "\n",
       "[100000 rows x 3 columns]"
      ]
     },
     "execution_count": 4,
     "metadata": {},
     "output_type": "execute_result"
    }
   ],
   "source": [
    "co60"
   ]
  },
  {
   "cell_type": "markdown",
   "metadata": {},
   "source": [
    "## plot a ${}^{60}$Co spectrum\n",
    "Below we have a look at the data we have just loaded to create a spectrum. This is similar to what we showed in the video but with higher resolution and higher statistics.\n",
    "\n",
    "As you have read in the instrumentation paper, each of the sources is sandwiched between two NaI(Tl) crystals which is each read out by a PMT. In the case of ${}^{60}$Co these happen to be channels `4 and 5`. Below we make a simple plot of such a spectrum. We do this by extracting the 'integral' field of the data as illustrated above and making a histogram of these values. This shows the calibrated energy of each event combined into a histogram to form the spectrum.\n",
    "  - Can you explain why we would refer to the energy as 'integral'?\n",
    "  - Below we plot the spectra of these two detectors (monitoring the exact same source from either side). Can you explain the features? (Not limited to just the red and blue lines, e.g. what other peaks do you see and can you explain them?)\n",
    "  "
   ]
  },
  {
   "cell_type": "code",
   "execution_count": 5,
   "metadata": {},
   "outputs": [
    {
     "data": {
      "image/png": "[encoded data removed]",
      "text/plain": [
       "<Figure size 432x288 with 1 Axes>"
      ]
     },
     "metadata": {
      "needs_background": "light"
     },
     "output_type": "display_data"
    },
    {
     "data": {
      "image/png": "[encoded data removed]",
      "text/plain": [
       "<Figure size 432x288 with 1 Axes>"
      ]
     },
     "metadata": {
      "needs_background": "light"
     },
     "output_type": "display_data"
    }
   ],
   "source": [
    "for ch in np.unique(co60['channel']):\n",
    "    plt.title('Sectrum of ${}^{60}$Co'f', ch{ch}')\n",
    "    selection = (co60['channel']==ch)\n",
    "    plt.hist(co60[selection]['integral'].values, bins = 300, range=[0,3000])\n",
    "    plt.yscale('log')\n",
    "    plt.ylim(10,plt.ylim()[-1])\n",
    "    plt.axvline(1173.2, c = 'r', linestyle = '--')\n",
    "    plt.axvline(1332.5, c = 'b', linestyle = '--')\n",
    "    plt.xlabel('E [keV]')\n",
    "    plt.ylabel('Counts / 10 keV')\n",
    "    plt.show()"
   ]
  }
 ],
 "metadata": {
  "kernelspec": {
   "display_name": "Python 3",
   "language": "python",
   "name": "python3"
  },
  "language_info": {
   "codemirror_mode": {
    "name": "ipython",
    "version": 3
   },
   "file_extension": ".py",
   "mimetype": "text/x-python",
   "name": "python",
   "nbconvert_exporter": "python",
   "pygments_lexer": "ipython3",
   "version": "3.8.3"
  }
 },
 "nbformat": 4,
 "nbformat_minor": 4
}
